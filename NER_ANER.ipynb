{
  "nbformat": 4,
  "nbformat_minor": 0,
  "metadata": {
    "colab": {
      "name": "NER_ANER.ipynb",
      "provenance": [],
      "collapsed_sections": [],
      "mount_file_id": "1tqtIlRaoSEZLrcvRCxnb4r-IA58FXKpC",
      "authorship_tag": "ABX9TyOL8bgkc0o8h8DjArIquEZb",
      "include_colab_link": true
    },
    "kernelspec": {
      "name": "python3",
      "display_name": "Python 3"
    },
    "language_info": {
      "name": "python"
    },
    "widgets": {
      "application/vnd.jupyter.widget-state+json": {
        "ab29b7ce2480467cae31b85686b92c77": {
          "model_module": "@jupyter-widgets/controls",
          "model_name": "HBoxModel",
          "state": {
            "_view_name": "HBoxView",
            "_dom_classes": [],
            "_model_name": "HBoxModel",
            "_view_module": "@jupyter-widgets/controls",
            "_model_module_version": "1.5.0",
            "_view_count": null,
            "_view_module_version": "1.5.0",
            "box_style": "",
            "layout": "IPY_MODEL_ac6cc686315a4bdcb4ac52cf3ee6b258",
            "_model_module": "@jupyter-widgets/controls",
            "children": [
              "IPY_MODEL_d87ab934637d4d22a70053580aa4990f",
              "IPY_MODEL_ecc46c029ee040c98669c36462d3ae0a"
            ]
          }
        },
        "ac6cc686315a4bdcb4ac52cf3ee6b258": {
          "model_module": "@jupyter-widgets/base",
          "model_name": "LayoutModel",
          "state": {
            "_view_name": "LayoutView",
            "grid_template_rows": null,
            "right": null,
            "justify_content": null,
            "_view_module": "@jupyter-widgets/base",
            "overflow": null,
            "_model_module_version": "1.2.0",
            "_view_count": null,
            "flex_flow": null,
            "width": null,
            "min_width": null,
            "border": null,
            "align_items": null,
            "bottom": null,
            "_model_module": "@jupyter-widgets/base",
            "top": null,
            "grid_column": null,
            "overflow_y": null,
            "overflow_x": null,
            "grid_auto_flow": null,
            "grid_area": null,
            "grid_template_columns": null,
            "flex": null,
            "_model_name": "LayoutModel",
            "justify_items": null,
            "grid_row": null,
            "max_height": null,
            "align_content": null,
            "visibility": null,
            "align_self": null,
            "height": null,
            "min_height": null,
            "padding": null,
            "grid_auto_rows": null,
            "grid_gap": null,
            "max_width": null,
            "order": null,
            "_view_module_version": "1.2.0",
            "grid_template_areas": null,
            "object_position": null,
            "object_fit": null,
            "grid_auto_columns": null,
            "margin": null,
            "display": null,
            "left": null
          }
        },
        "d87ab934637d4d22a70053580aa4990f": {
          "model_module": "@jupyter-widgets/controls",
          "model_name": "FloatProgressModel",
          "state": {
            "_view_name": "ProgressView",
            "style": "IPY_MODEL_1cf46b664995433d8e96592cbce00d02",
            "_dom_classes": [],
            "description": "Downloading: 100%",
            "_model_name": "FloatProgressModel",
            "bar_style": "success",
            "max": 381,
            "_view_module": "@jupyter-widgets/controls",
            "_model_module_version": "1.5.0",
            "value": 381,
            "_view_count": null,
            "_view_module_version": "1.5.0",
            "orientation": "horizontal",
            "min": 0,
            "description_tooltip": null,
            "_model_module": "@jupyter-widgets/controls",
            "layout": "IPY_MODEL_64358aa4bb0148aebbf5694fdeb3671c"
          }
        },
        "ecc46c029ee040c98669c36462d3ae0a": {
          "model_module": "@jupyter-widgets/controls",
          "model_name": "HTMLModel",
          "state": {
            "_view_name": "HTMLView",
            "style": "IPY_MODEL_fcd73d36bdc04d5c917f511346431bfd",
            "_dom_classes": [],
            "description": "",
            "_model_name": "HTMLModel",
            "placeholder": "​",
            "_view_module": "@jupyter-widgets/controls",
            "_model_module_version": "1.5.0",
            "value": " 381/381 [00:00&lt;00:00, 718B/s]",
            "_view_count": null,
            "_view_module_version": "1.5.0",
            "description_tooltip": null,
            "_model_module": "@jupyter-widgets/controls",
            "layout": "IPY_MODEL_431c0d5a53064134a63dac5ec637d585"
          }
        },
        "1cf46b664995433d8e96592cbce00d02": {
          "model_module": "@jupyter-widgets/controls",
          "model_name": "ProgressStyleModel",
          "state": {
            "_view_name": "StyleView",
            "_model_name": "ProgressStyleModel",
            "description_width": "initial",
            "_view_module": "@jupyter-widgets/base",
            "_model_module_version": "1.5.0",
            "_view_count": null,
            "_view_module_version": "1.2.0",
            "bar_color": null,
            "_model_module": "@jupyter-widgets/controls"
          }
        },
        "64358aa4bb0148aebbf5694fdeb3671c": {
          "model_module": "@jupyter-widgets/base",
          "model_name": "LayoutModel",
          "state": {
            "_view_name": "LayoutView",
            "grid_template_rows": null,
            "right": null,
            "justify_content": null,
            "_view_module": "@jupyter-widgets/base",
            "overflow": null,
            "_model_module_version": "1.2.0",
            "_view_count": null,
            "flex_flow": null,
            "width": null,
            "min_width": null,
            "border": null,
            "align_items": null,
            "bottom": null,
            "_model_module": "@jupyter-widgets/base",
            "top": null,
            "grid_column": null,
            "overflow_y": null,
            "overflow_x": null,
            "grid_auto_flow": null,
            "grid_area": null,
            "grid_template_columns": null,
            "flex": null,
            "_model_name": "LayoutModel",
            "justify_items": null,
            "grid_row": null,
            "max_height": null,
            "align_content": null,
            "visibility": null,
            "align_self": null,
            "height": null,
            "min_height": null,
            "padding": null,
            "grid_auto_rows": null,
            "grid_gap": null,
            "max_width": null,
            "order": null,
            "_view_module_version": "1.2.0",
            "grid_template_areas": null,
            "object_position": null,
            "object_fit": null,
            "grid_auto_columns": null,
            "margin": null,
            "display": null,
            "left": null
          }
        },
        "fcd73d36bdc04d5c917f511346431bfd": {
          "model_module": "@jupyter-widgets/controls",
          "model_name": "DescriptionStyleModel",
          "state": {
            "_view_name": "StyleView",
            "_model_name": "DescriptionStyleModel",
            "description_width": "",
            "_view_module": "@jupyter-widgets/base",
            "_model_module_version": "1.5.0",
            "_view_count": null,
            "_view_module_version": "1.2.0",
            "_model_module": "@jupyter-widgets/controls"
          }
        },
        "431c0d5a53064134a63dac5ec637d585": {
          "model_module": "@jupyter-widgets/base",
          "model_name": "LayoutModel",
          "state": {
            "_view_name": "LayoutView",
            "grid_template_rows": null,
            "right": null,
            "justify_content": null,
            "_view_module": "@jupyter-widgets/base",
            "overflow": null,
            "_model_module_version": "1.2.0",
            "_view_count": null,
            "flex_flow": null,
            "width": null,
            "min_width": null,
            "border": null,
            "align_items": null,
            "bottom": null,
            "_model_module": "@jupyter-widgets/base",
            "top": null,
            "grid_column": null,
            "overflow_y": null,
            "overflow_x": null,
            "grid_auto_flow": null,
            "grid_area": null,
            "grid_template_columns": null,
            "flex": null,
            "_model_name": "LayoutModel",
            "justify_items": null,
            "grid_row": null,
            "max_height": null,
            "align_content": null,
            "visibility": null,
            "align_self": null,
            "height": null,
            "min_height": null,
            "padding": null,
            "grid_auto_rows": null,
            "grid_gap": null,
            "max_width": null,
            "order": null,
            "_view_module_version": "1.2.0",
            "grid_template_areas": null,
            "object_position": null,
            "object_fit": null,
            "grid_auto_columns": null,
            "margin": null,
            "display": null,
            "left": null
          }
        },
        "5d52da912e414b7d8886287b16118bfa": {
          "model_module": "@jupyter-widgets/controls",
          "model_name": "HBoxModel",
          "state": {
            "_view_name": "HBoxView",
            "_dom_classes": [],
            "_model_name": "HBoxModel",
            "_view_module": "@jupyter-widgets/controls",
            "_model_module_version": "1.5.0",
            "_view_count": null,
            "_view_module_version": "1.5.0",
            "box_style": "",
            "layout": "IPY_MODEL_d3cde8eff2104f42a165a42314192f12",
            "_model_module": "@jupyter-widgets/controls",
            "children": [
              "IPY_MODEL_f161e8bf2b434eae90d7e67ae710636a",
              "IPY_MODEL_09a1d00f173b4b39a8a1448d69e39d8e"
            ]
          }
        },
        "d3cde8eff2104f42a165a42314192f12": {
          "model_module": "@jupyter-widgets/base",
          "model_name": "LayoutModel",
          "state": {
            "_view_name": "LayoutView",
            "grid_template_rows": null,
            "right": null,
            "justify_content": null,
            "_view_module": "@jupyter-widgets/base",
            "overflow": null,
            "_model_module_version": "1.2.0",
            "_view_count": null,
            "flex_flow": null,
            "width": null,
            "min_width": null,
            "border": null,
            "align_items": null,
            "bottom": null,
            "_model_module": "@jupyter-widgets/base",
            "top": null,
            "grid_column": null,
            "overflow_y": null,
            "overflow_x": null,
            "grid_auto_flow": null,
            "grid_area": null,
            "grid_template_columns": null,
            "flex": null,
            "_model_name": "LayoutModel",
            "justify_items": null,
            "grid_row": null,
            "max_height": null,
            "align_content": null,
            "visibility": null,
            "align_self": null,
            "height": null,
            "min_height": null,
            "padding": null,
            "grid_auto_rows": null,
            "grid_gap": null,
            "max_width": null,
            "order": null,
            "_view_module_version": "1.2.0",
            "grid_template_areas": null,
            "object_position": null,
            "object_fit": null,
            "grid_auto_columns": null,
            "margin": null,
            "display": null,
            "left": null
          }
        },
        "f161e8bf2b434eae90d7e67ae710636a": {
          "model_module": "@jupyter-widgets/controls",
          "model_name": "FloatProgressModel",
          "state": {
            "_view_name": "ProgressView",
            "style": "IPY_MODEL_5e6b5f75e1dd4aa98059778e65ee6a86",
            "_dom_classes": [],
            "description": "Downloading: 100%",
            "_model_name": "FloatProgressModel",
            "bar_style": "success",
            "max": 384,
            "_view_module": "@jupyter-widgets/controls",
            "_model_module_version": "1.5.0",
            "value": 384,
            "_view_count": null,
            "_view_module_version": "1.5.0",
            "orientation": "horizontal",
            "min": 0,
            "description_tooltip": null,
            "_model_module": "@jupyter-widgets/controls",
            "layout": "IPY_MODEL_61df8a4583eb44f3b9058f512da20ed3"
          }
        },
        "09a1d00f173b4b39a8a1448d69e39d8e": {
          "model_module": "@jupyter-widgets/controls",
          "model_name": "HTMLModel",
          "state": {
            "_view_name": "HTMLView",
            "style": "IPY_MODEL_f914fffa6da4493fb1cd0c750fd942de",
            "_dom_classes": [],
            "description": "",
            "_model_name": "HTMLModel",
            "placeholder": "​",
            "_view_module": "@jupyter-widgets/controls",
            "_model_module_version": "1.5.0",
            "value": " 384/384 [00:01&lt;00:00, 258B/s]",
            "_view_count": null,
            "_view_module_version": "1.5.0",
            "description_tooltip": null,
            "_model_module": "@jupyter-widgets/controls",
            "layout": "IPY_MODEL_4d98b7618b1e4658a998b7335bd4fbda"
          }
        },
        "5e6b5f75e1dd4aa98059778e65ee6a86": {
          "model_module": "@jupyter-widgets/controls",
          "model_name": "ProgressStyleModel",
          "state": {
            "_view_name": "StyleView",
            "_model_name": "ProgressStyleModel",
            "description_width": "initial",
            "_view_module": "@jupyter-widgets/base",
            "_model_module_version": "1.5.0",
            "_view_count": null,
            "_view_module_version": "1.2.0",
            "bar_color": null,
            "_model_module": "@jupyter-widgets/controls"
          }
        },
        "61df8a4583eb44f3b9058f512da20ed3": {
          "model_module": "@jupyter-widgets/base",
          "model_name": "LayoutModel",
          "state": {
            "_view_name": "LayoutView",
            "grid_template_rows": null,
            "right": null,
            "justify_content": null,
            "_view_module": "@jupyter-widgets/base",
            "overflow": null,
            "_model_module_version": "1.2.0",
            "_view_count": null,
            "flex_flow": null,
            "width": null,
            "min_width": null,
            "border": null,
            "align_items": null,
            "bottom": null,
            "_model_module": "@jupyter-widgets/base",
            "top": null,
            "grid_column": null,
            "overflow_y": null,
            "overflow_x": null,
            "grid_auto_flow": null,
            "grid_area": null,
            "grid_template_columns": null,
            "flex": null,
            "_model_name": "LayoutModel",
            "justify_items": null,
            "grid_row": null,
            "max_height": null,
            "align_content": null,
            "visibility": null,
            "align_self": null,
            "height": null,
            "min_height": null,
            "padding": null,
            "grid_auto_rows": null,
            "grid_gap": null,
            "max_width": null,
            "order": null,
            "_view_module_version": "1.2.0",
            "grid_template_areas": null,
            "object_position": null,
            "object_fit": null,
            "grid_auto_columns": null,
            "margin": null,
            "display": null,
            "left": null
          }
        },
        "f914fffa6da4493fb1cd0c750fd942de": {
          "model_module": "@jupyter-widgets/controls",
          "model_name": "DescriptionStyleModel",
          "state": {
            "_view_name": "StyleView",
            "_model_name": "DescriptionStyleModel",
            "description_width": "",
            "_view_module": "@jupyter-widgets/base",
            "_model_module_version": "1.5.0",
            "_view_count": null,
            "_view_module_version": "1.2.0",
            "_model_module": "@jupyter-widgets/controls"
          }
        },
        "4d98b7618b1e4658a998b7335bd4fbda": {
          "model_module": "@jupyter-widgets/base",
          "model_name": "LayoutModel",
          "state": {
            "_view_name": "LayoutView",
            "grid_template_rows": null,
            "right": null,
            "justify_content": null,
            "_view_module": "@jupyter-widgets/base",
            "overflow": null,
            "_model_module_version": "1.2.0",
            "_view_count": null,
            "flex_flow": null,
            "width": null,
            "min_width": null,
            "border": null,
            "align_items": null,
            "bottom": null,
            "_model_module": "@jupyter-widgets/base",
            "top": null,
            "grid_column": null,
            "overflow_y": null,
            "overflow_x": null,
            "grid_auto_flow": null,
            "grid_area": null,
            "grid_template_columns": null,
            "flex": null,
            "_model_name": "LayoutModel",
            "justify_items": null,
            "grid_row": null,
            "max_height": null,
            "align_content": null,
            "visibility": null,
            "align_self": null,
            "height": null,
            "min_height": null,
            "padding": null,
            "grid_auto_rows": null,
            "grid_gap": null,
            "max_width": null,
            "order": null,
            "_view_module_version": "1.2.0",
            "grid_template_areas": null,
            "object_position": null,
            "object_fit": null,
            "grid_auto_columns": null,
            "margin": null,
            "display": null,
            "left": null
          }
        },
        "2162aea2cc81414c9627c2a852bf1a99": {
          "model_module": "@jupyter-widgets/controls",
          "model_name": "HBoxModel",
          "state": {
            "_view_name": "HBoxView",
            "_dom_classes": [],
            "_model_name": "HBoxModel",
            "_view_module": "@jupyter-widgets/controls",
            "_model_module_version": "1.5.0",
            "_view_count": null,
            "_view_module_version": "1.5.0",
            "box_style": "",
            "layout": "IPY_MODEL_0089a312e017420ca249e08aecbfeb27",
            "_model_module": "@jupyter-widgets/controls",
            "children": [
              "IPY_MODEL_b3d63507a1bf4189b98730616da8c706",
              "IPY_MODEL_f8a6e140ac9449b7a40a3b0b3757289d"
            ]
          }
        },
        "0089a312e017420ca249e08aecbfeb27": {
          "model_module": "@jupyter-widgets/base",
          "model_name": "LayoutModel",
          "state": {
            "_view_name": "LayoutView",
            "grid_template_rows": null,
            "right": null,
            "justify_content": null,
            "_view_module": "@jupyter-widgets/base",
            "overflow": null,
            "_model_module_version": "1.2.0",
            "_view_count": null,
            "flex_flow": null,
            "width": null,
            "min_width": null,
            "border": null,
            "align_items": null,
            "bottom": null,
            "_model_module": "@jupyter-widgets/base",
            "top": null,
            "grid_column": null,
            "overflow_y": null,
            "overflow_x": null,
            "grid_auto_flow": null,
            "grid_area": null,
            "grid_template_columns": null,
            "flex": null,
            "_model_name": "LayoutModel",
            "justify_items": null,
            "grid_row": null,
            "max_height": null,
            "align_content": null,
            "visibility": null,
            "align_self": null,
            "height": null,
            "min_height": null,
            "padding": null,
            "grid_auto_rows": null,
            "grid_gap": null,
            "max_width": null,
            "order": null,
            "_view_module_version": "1.2.0",
            "grid_template_areas": null,
            "object_position": null,
            "object_fit": null,
            "grid_auto_columns": null,
            "margin": null,
            "display": null,
            "left": null
          }
        },
        "b3d63507a1bf4189b98730616da8c706": {
          "model_module": "@jupyter-widgets/controls",
          "model_name": "FloatProgressModel",
          "state": {
            "_view_name": "ProgressView",
            "style": "IPY_MODEL_1038003f309e47f4b09c1c44ed797e63",
            "_dom_classes": [],
            "description": "Downloading: 100%",
            "_model_name": "FloatProgressModel",
            "bar_style": "success",
            "max": 824793,
            "_view_module": "@jupyter-widgets/controls",
            "_model_module_version": "1.5.0",
            "value": 824793,
            "_view_count": null,
            "_view_module_version": "1.5.0",
            "orientation": "horizontal",
            "min": 0,
            "description_tooltip": null,
            "_model_module": "@jupyter-widgets/controls",
            "layout": "IPY_MODEL_71fb9bdf0c0645b9a904ee7f204c438e"
          }
        },
        "f8a6e140ac9449b7a40a3b0b3757289d": {
          "model_module": "@jupyter-widgets/controls",
          "model_name": "HTMLModel",
          "state": {
            "_view_name": "HTMLView",
            "style": "IPY_MODEL_e035b12ddf854e7bbf0ed42e45ea1d55",
            "_dom_classes": [],
            "description": "",
            "_model_name": "HTMLModel",
            "placeholder": "​",
            "_view_module": "@jupyter-widgets/controls",
            "_model_module_version": "1.5.0",
            "value": " 825k/825k [00:00&lt;00:00, 987kB/s]",
            "_view_count": null,
            "_view_module_version": "1.5.0",
            "description_tooltip": null,
            "_model_module": "@jupyter-widgets/controls",
            "layout": "IPY_MODEL_f46c3e9151f4436ea26124da245e7af5"
          }
        },
        "1038003f309e47f4b09c1c44ed797e63": {
          "model_module": "@jupyter-widgets/controls",
          "model_name": "ProgressStyleModel",
          "state": {
            "_view_name": "StyleView",
            "_model_name": "ProgressStyleModel",
            "description_width": "initial",
            "_view_module": "@jupyter-widgets/base",
            "_model_module_version": "1.5.0",
            "_view_count": null,
            "_view_module_version": "1.2.0",
            "bar_color": null,
            "_model_module": "@jupyter-widgets/controls"
          }
        },
        "71fb9bdf0c0645b9a904ee7f204c438e": {
          "model_module": "@jupyter-widgets/base",
          "model_name": "LayoutModel",
          "state": {
            "_view_name": "LayoutView",
            "grid_template_rows": null,
            "right": null,
            "justify_content": null,
            "_view_module": "@jupyter-widgets/base",
            "overflow": null,
            "_model_module_version": "1.2.0",
            "_view_count": null,
            "flex_flow": null,
            "width": null,
            "min_width": null,
            "border": null,
            "align_items": null,
            "bottom": null,
            "_model_module": "@jupyter-widgets/base",
            "top": null,
            "grid_column": null,
            "overflow_y": null,
            "overflow_x": null,
            "grid_auto_flow": null,
            "grid_area": null,
            "grid_template_columns": null,
            "flex": null,
            "_model_name": "LayoutModel",
            "justify_items": null,
            "grid_row": null,
            "max_height": null,
            "align_content": null,
            "visibility": null,
            "align_self": null,
            "height": null,
            "min_height": null,
            "padding": null,
            "grid_auto_rows": null,
            "grid_gap": null,
            "max_width": null,
            "order": null,
            "_view_module_version": "1.2.0",
            "grid_template_areas": null,
            "object_position": null,
            "object_fit": null,
            "grid_auto_columns": null,
            "margin": null,
            "display": null,
            "left": null
          }
        },
        "e035b12ddf854e7bbf0ed42e45ea1d55": {
          "model_module": "@jupyter-widgets/controls",
          "model_name": "DescriptionStyleModel",
          "state": {
            "_view_name": "StyleView",
            "_model_name": "DescriptionStyleModel",
            "description_width": "",
            "_view_module": "@jupyter-widgets/base",
            "_model_module_version": "1.5.0",
            "_view_count": null,
            "_view_module_version": "1.2.0",
            "_model_module": "@jupyter-widgets/controls"
          }
        },
        "f46c3e9151f4436ea26124da245e7af5": {
          "model_module": "@jupyter-widgets/base",
          "model_name": "LayoutModel",
          "state": {
            "_view_name": "LayoutView",
            "grid_template_rows": null,
            "right": null,
            "justify_content": null,
            "_view_module": "@jupyter-widgets/base",
            "overflow": null,
            "_model_module_version": "1.2.0",
            "_view_count": null,
            "flex_flow": null,
            "width": null,
            "min_width": null,
            "border": null,
            "align_items": null,
            "bottom": null,
            "_model_module": "@jupyter-widgets/base",
            "top": null,
            "grid_column": null,
            "overflow_y": null,
            "overflow_x": null,
            "grid_auto_flow": null,
            "grid_area": null,
            "grid_template_columns": null,
            "flex": null,
            "_model_name": "LayoutModel",
            "justify_items": null,
            "grid_row": null,
            "max_height": null,
            "align_content": null,
            "visibility": null,
            "align_self": null,
            "height": null,
            "min_height": null,
            "padding": null,
            "grid_auto_rows": null,
            "grid_gap": null,
            "max_width": null,
            "order": null,
            "_view_module_version": "1.2.0",
            "grid_template_areas": null,
            "object_position": null,
            "object_fit": null,
            "grid_auto_columns": null,
            "margin": null,
            "display": null,
            "left": null
          }
        },
        "e803b1bb1f654f3da62546c7e97b525f": {
          "model_module": "@jupyter-widgets/controls",
          "model_name": "HBoxModel",
          "state": {
            "_view_name": "HBoxView",
            "_dom_classes": [],
            "_model_name": "HBoxModel",
            "_view_module": "@jupyter-widgets/controls",
            "_model_module_version": "1.5.0",
            "_view_count": null,
            "_view_module_version": "1.5.0",
            "box_style": "",
            "layout": "IPY_MODEL_8a5c1d6d22b94cdda931b1d15b8c28a9",
            "_model_module": "@jupyter-widgets/controls",
            "children": [
              "IPY_MODEL_cde88eee871a4f44bc64276aebbab06b",
              "IPY_MODEL_c64dff6656ab45da940b5ad427bb2da6"
            ]
          }
        },
        "8a5c1d6d22b94cdda931b1d15b8c28a9": {
          "model_module": "@jupyter-widgets/base",
          "model_name": "LayoutModel",
          "state": {
            "_view_name": "LayoutView",
            "grid_template_rows": null,
            "right": null,
            "justify_content": null,
            "_view_module": "@jupyter-widgets/base",
            "overflow": null,
            "_model_module_version": "1.2.0",
            "_view_count": null,
            "flex_flow": null,
            "width": null,
            "min_width": null,
            "border": null,
            "align_items": null,
            "bottom": null,
            "_model_module": "@jupyter-widgets/base",
            "top": null,
            "grid_column": null,
            "overflow_y": null,
            "overflow_x": null,
            "grid_auto_flow": null,
            "grid_area": null,
            "grid_template_columns": null,
            "flex": null,
            "_model_name": "LayoutModel",
            "justify_items": null,
            "grid_row": null,
            "max_height": null,
            "align_content": null,
            "visibility": null,
            "align_self": null,
            "height": null,
            "min_height": null,
            "padding": null,
            "grid_auto_rows": null,
            "grid_gap": null,
            "max_width": null,
            "order": null,
            "_view_module_version": "1.2.0",
            "grid_template_areas": null,
            "object_position": null,
            "object_fit": null,
            "grid_auto_columns": null,
            "margin": null,
            "display": null,
            "left": null
          }
        },
        "cde88eee871a4f44bc64276aebbab06b": {
          "model_module": "@jupyter-widgets/controls",
          "model_name": "FloatProgressModel",
          "state": {
            "_view_name": "ProgressView",
            "style": "IPY_MODEL_922f9119198d4741bf20b440bcfdd78c",
            "_dom_classes": [],
            "description": "Downloading: 100%",
            "_model_name": "FloatProgressModel",
            "bar_style": "success",
            "max": 2642362,
            "_view_module": "@jupyter-widgets/controls",
            "_model_module_version": "1.5.0",
            "value": 2642362,
            "_view_count": null,
            "_view_module_version": "1.5.0",
            "orientation": "horizontal",
            "min": 0,
            "description_tooltip": null,
            "_model_module": "@jupyter-widgets/controls",
            "layout": "IPY_MODEL_ea68c9403fe64a07bf5c33cbd18cb569"
          }
        },
        "c64dff6656ab45da940b5ad427bb2da6": {
          "model_module": "@jupyter-widgets/controls",
          "model_name": "HTMLModel",
          "state": {
            "_view_name": "HTMLView",
            "style": "IPY_MODEL_77195c4e3df846a08ed450732c374c19",
            "_dom_classes": [],
            "description": "",
            "_model_name": "HTMLModel",
            "placeholder": "​",
            "_view_module": "@jupyter-widgets/controls",
            "_model_module_version": "1.5.0",
            "value": " 2.64M/2.64M [00:27&lt;00:00, 94.6kB/s]",
            "_view_count": null,
            "_view_module_version": "1.5.0",
            "description_tooltip": null,
            "_model_module": "@jupyter-widgets/controls",
            "layout": "IPY_MODEL_d650154757bd4b8c8b34e96667f960cb"
          }
        },
        "922f9119198d4741bf20b440bcfdd78c": {
          "model_module": "@jupyter-widgets/controls",
          "model_name": "ProgressStyleModel",
          "state": {
            "_view_name": "StyleView",
            "_model_name": "ProgressStyleModel",
            "description_width": "initial",
            "_view_module": "@jupyter-widgets/base",
            "_model_module_version": "1.5.0",
            "_view_count": null,
            "_view_module_version": "1.2.0",
            "bar_color": null,
            "_model_module": "@jupyter-widgets/controls"
          }
        },
        "ea68c9403fe64a07bf5c33cbd18cb569": {
          "model_module": "@jupyter-widgets/base",
          "model_name": "LayoutModel",
          "state": {
            "_view_name": "LayoutView",
            "grid_template_rows": null,
            "right": null,
            "justify_content": null,
            "_view_module": "@jupyter-widgets/base",
            "overflow": null,
            "_model_module_version": "1.2.0",
            "_view_count": null,
            "flex_flow": null,
            "width": null,
            "min_width": null,
            "border": null,
            "align_items": null,
            "bottom": null,
            "_model_module": "@jupyter-widgets/base",
            "top": null,
            "grid_column": null,
            "overflow_y": null,
            "overflow_x": null,
            "grid_auto_flow": null,
            "grid_area": null,
            "grid_template_columns": null,
            "flex": null,
            "_model_name": "LayoutModel",
            "justify_items": null,
            "grid_row": null,
            "max_height": null,
            "align_content": null,
            "visibility": null,
            "align_self": null,
            "height": null,
            "min_height": null,
            "padding": null,
            "grid_auto_rows": null,
            "grid_gap": null,
            "max_width": null,
            "order": null,
            "_view_module_version": "1.2.0",
            "grid_template_areas": null,
            "object_position": null,
            "object_fit": null,
            "grid_auto_columns": null,
            "margin": null,
            "display": null,
            "left": null
          }
        },
        "77195c4e3df846a08ed450732c374c19": {
          "model_module": "@jupyter-widgets/controls",
          "model_name": "DescriptionStyleModel",
          "state": {
            "_view_name": "StyleView",
            "_model_name": "DescriptionStyleModel",
            "description_width": "",
            "_view_module": "@jupyter-widgets/base",
            "_model_module_version": "1.5.0",
            "_view_count": null,
            "_view_module_version": "1.2.0",
            "_model_module": "@jupyter-widgets/controls"
          }
        },
        "d650154757bd4b8c8b34e96667f960cb": {
          "model_module": "@jupyter-widgets/base",
          "model_name": "LayoutModel",
          "state": {
            "_view_name": "LayoutView",
            "grid_template_rows": null,
            "right": null,
            "justify_content": null,
            "_view_module": "@jupyter-widgets/base",
            "overflow": null,
            "_model_module_version": "1.2.0",
            "_view_count": null,
            "flex_flow": null,
            "width": null,
            "min_width": null,
            "border": null,
            "align_items": null,
            "bottom": null,
            "_model_module": "@jupyter-widgets/base",
            "top": null,
            "grid_column": null,
            "overflow_y": null,
            "overflow_x": null,
            "grid_auto_flow": null,
            "grid_area": null,
            "grid_template_columns": null,
            "flex": null,
            "_model_name": "LayoutModel",
            "justify_items": null,
            "grid_row": null,
            "max_height": null,
            "align_content": null,
            "visibility": null,
            "align_self": null,
            "height": null,
            "min_height": null,
            "padding": null,
            "grid_auto_rows": null,
            "grid_gap": null,
            "max_width": null,
            "order": null,
            "_view_module_version": "1.2.0",
            "grid_template_areas": null,
            "object_position": null,
            "object_fit": null,
            "grid_auto_columns": null,
            "margin": null,
            "display": null,
            "left": null
          }
        },
        "6802814fa2d14c38b2c3099f9e7caf65": {
          "model_module": "@jupyter-widgets/controls",
          "model_name": "HBoxModel",
          "state": {
            "_view_name": "HBoxView",
            "_dom_classes": [],
            "_model_name": "HBoxModel",
            "_view_module": "@jupyter-widgets/controls",
            "_model_module_version": "1.5.0",
            "_view_count": null,
            "_view_module_version": "1.5.0",
            "box_style": "",
            "layout": "IPY_MODEL_69ec91150b1e40f0aea309fb794be714",
            "_model_module": "@jupyter-widgets/controls",
            "children": [
              "IPY_MODEL_544a15dacbcc4362a2830454fc80b8f3",
              "IPY_MODEL_d6626a334e554d3f969cd24e858984a6"
            ]
          }
        },
        "69ec91150b1e40f0aea309fb794be714": {
          "model_module": "@jupyter-widgets/base",
          "model_name": "LayoutModel",
          "state": {
            "_view_name": "LayoutView",
            "grid_template_rows": null,
            "right": null,
            "justify_content": null,
            "_view_module": "@jupyter-widgets/base",
            "overflow": null,
            "_model_module_version": "1.2.0",
            "_view_count": null,
            "flex_flow": null,
            "width": null,
            "min_width": null,
            "border": null,
            "align_items": null,
            "bottom": null,
            "_model_module": "@jupyter-widgets/base",
            "top": null,
            "grid_column": null,
            "overflow_y": null,
            "overflow_x": null,
            "grid_auto_flow": null,
            "grid_area": null,
            "grid_template_columns": null,
            "flex": null,
            "_model_name": "LayoutModel",
            "justify_items": null,
            "grid_row": null,
            "max_height": null,
            "align_content": null,
            "visibility": null,
            "align_self": null,
            "height": null,
            "min_height": null,
            "padding": null,
            "grid_auto_rows": null,
            "grid_gap": null,
            "max_width": null,
            "order": null,
            "_view_module_version": "1.2.0",
            "grid_template_areas": null,
            "object_position": null,
            "object_fit": null,
            "grid_auto_columns": null,
            "margin": null,
            "display": null,
            "left": null
          }
        },
        "544a15dacbcc4362a2830454fc80b8f3": {
          "model_module": "@jupyter-widgets/controls",
          "model_name": "FloatProgressModel",
          "state": {
            "_view_name": "ProgressView",
            "style": "IPY_MODEL_7036ed410fa4412aae4bbd4551fd30a2",
            "_dom_classes": [],
            "description": "Downloading: 100%",
            "_model_name": "FloatProgressModel",
            "bar_style": "success",
            "max": 112,
            "_view_module": "@jupyter-widgets/controls",
            "_model_module_version": "1.5.0",
            "value": 112,
            "_view_count": null,
            "_view_module_version": "1.5.0",
            "orientation": "horizontal",
            "min": 0,
            "description_tooltip": null,
            "_model_module": "@jupyter-widgets/controls",
            "layout": "IPY_MODEL_d1a08ca83c66410096c5eb22a6044290"
          }
        },
        "d6626a334e554d3f969cd24e858984a6": {
          "model_module": "@jupyter-widgets/controls",
          "model_name": "HTMLModel",
          "state": {
            "_view_name": "HTMLView",
            "style": "IPY_MODEL_59bb9f5718644811a2333c0e8f2b209b",
            "_dom_classes": [],
            "description": "",
            "_model_name": "HTMLModel",
            "placeholder": "​",
            "_view_module": "@jupyter-widgets/controls",
            "_model_module_version": "1.5.0",
            "value": " 112/112 [00:00&lt;00:00, 212B/s]",
            "_view_count": null,
            "_view_module_version": "1.5.0",
            "description_tooltip": null,
            "_model_module": "@jupyter-widgets/controls",
            "layout": "IPY_MODEL_838ea476be7940f8aedc30ba1ee6de8b"
          }
        },
        "7036ed410fa4412aae4bbd4551fd30a2": {
          "model_module": "@jupyter-widgets/controls",
          "model_name": "ProgressStyleModel",
          "state": {
            "_view_name": "StyleView",
            "_model_name": "ProgressStyleModel",
            "description_width": "initial",
            "_view_module": "@jupyter-widgets/base",
            "_model_module_version": "1.5.0",
            "_view_count": null,
            "_view_module_version": "1.2.0",
            "bar_color": null,
            "_model_module": "@jupyter-widgets/controls"
          }
        },
        "d1a08ca83c66410096c5eb22a6044290": {
          "model_module": "@jupyter-widgets/base",
          "model_name": "LayoutModel",
          "state": {
            "_view_name": "LayoutView",
            "grid_template_rows": null,
            "right": null,
            "justify_content": null,
            "_view_module": "@jupyter-widgets/base",
            "overflow": null,
            "_model_module_version": "1.2.0",
            "_view_count": null,
            "flex_flow": null,
            "width": null,
            "min_width": null,
            "border": null,
            "align_items": null,
            "bottom": null,
            "_model_module": "@jupyter-widgets/base",
            "top": null,
            "grid_column": null,
            "overflow_y": null,
            "overflow_x": null,
            "grid_auto_flow": null,
            "grid_area": null,
            "grid_template_columns": null,
            "flex": null,
            "_model_name": "LayoutModel",
            "justify_items": null,
            "grid_row": null,
            "max_height": null,
            "align_content": null,
            "visibility": null,
            "align_self": null,
            "height": null,
            "min_height": null,
            "padding": null,
            "grid_auto_rows": null,
            "grid_gap": null,
            "max_width": null,
            "order": null,
            "_view_module_version": "1.2.0",
            "grid_template_areas": null,
            "object_position": null,
            "object_fit": null,
            "grid_auto_columns": null,
            "margin": null,
            "display": null,
            "left": null
          }
        },
        "59bb9f5718644811a2333c0e8f2b209b": {
          "model_module": "@jupyter-widgets/controls",
          "model_name": "DescriptionStyleModel",
          "state": {
            "_view_name": "StyleView",
            "_model_name": "DescriptionStyleModel",
            "description_width": "",
            "_view_module": "@jupyter-widgets/base",
            "_model_module_version": "1.5.0",
            "_view_count": null,
            "_view_module_version": "1.2.0",
            "_model_module": "@jupyter-widgets/controls"
          }
        },
        "838ea476be7940f8aedc30ba1ee6de8b": {
          "model_module": "@jupyter-widgets/base",
          "model_name": "LayoutModel",
          "state": {
            "_view_name": "LayoutView",
            "grid_template_rows": null,
            "right": null,
            "justify_content": null,
            "_view_module": "@jupyter-widgets/base",
            "overflow": null,
            "_model_module_version": "1.2.0",
            "_view_count": null,
            "flex_flow": null,
            "width": null,
            "min_width": null,
            "border": null,
            "align_items": null,
            "bottom": null,
            "_model_module": "@jupyter-widgets/base",
            "top": null,
            "grid_column": null,
            "overflow_y": null,
            "overflow_x": null,
            "grid_auto_flow": null,
            "grid_area": null,
            "grid_template_columns": null,
            "flex": null,
            "_model_name": "LayoutModel",
            "justify_items": null,
            "grid_row": null,
            "max_height": null,
            "align_content": null,
            "visibility": null,
            "align_self": null,
            "height": null,
            "min_height": null,
            "padding": null,
            "grid_auto_rows": null,
            "grid_gap": null,
            "max_width": null,
            "order": null,
            "_view_module_version": "1.2.0",
            "grid_template_areas": null,
            "object_position": null,
            "object_fit": null,
            "grid_auto_columns": null,
            "margin": null,
            "display": null,
            "left": null
          }
        },
        "2d35bb6ffb7d429b936d244e9e53105f": {
          "model_module": "@jupyter-widgets/controls",
          "model_name": "HBoxModel",
          "state": {
            "_view_name": "HBoxView",
            "_dom_classes": [],
            "_model_name": "HBoxModel",
            "_view_module": "@jupyter-widgets/controls",
            "_model_module_version": "1.5.0",
            "_view_count": null,
            "_view_module_version": "1.5.0",
            "box_style": "",
            "layout": "IPY_MODEL_57b852fc2f28494a95de924faeb1b6d7",
            "_model_module": "@jupyter-widgets/controls",
            "children": [
              "IPY_MODEL_a4d2fc663e12422b873fa58e1bd435c8",
              "IPY_MODEL_7aa1d319a2644a3dab7e30e5aac56745"
            ]
          }
        },
        "57b852fc2f28494a95de924faeb1b6d7": {
          "model_module": "@jupyter-widgets/base",
          "model_name": "LayoutModel",
          "state": {
            "_view_name": "LayoutView",
            "grid_template_rows": null,
            "right": null,
            "justify_content": null,
            "_view_module": "@jupyter-widgets/base",
            "overflow": null,
            "_model_module_version": "1.2.0",
            "_view_count": null,
            "flex_flow": null,
            "width": null,
            "min_width": null,
            "border": null,
            "align_items": null,
            "bottom": null,
            "_model_module": "@jupyter-widgets/base",
            "top": null,
            "grid_column": null,
            "overflow_y": null,
            "overflow_x": null,
            "grid_auto_flow": null,
            "grid_area": null,
            "grid_template_columns": null,
            "flex": null,
            "_model_name": "LayoutModel",
            "justify_items": null,
            "grid_row": null,
            "max_height": null,
            "align_content": null,
            "visibility": null,
            "align_self": null,
            "height": null,
            "min_height": null,
            "padding": null,
            "grid_auto_rows": null,
            "grid_gap": null,
            "max_width": null,
            "order": null,
            "_view_module_version": "1.2.0",
            "grid_template_areas": null,
            "object_position": null,
            "object_fit": null,
            "grid_auto_columns": null,
            "margin": null,
            "display": null,
            "left": null
          }
        },
        "a4d2fc663e12422b873fa58e1bd435c8": {
          "model_module": "@jupyter-widgets/controls",
          "model_name": "FloatProgressModel",
          "state": {
            "_view_name": "ProgressView",
            "style": "IPY_MODEL_83603d41867f43d397222adfbbcb5aca",
            "_dom_classes": [],
            "description": "Downloading: 100%",
            "_model_name": "FloatProgressModel",
            "bar_style": "success",
            "max": 543490667,
            "_view_module": "@jupyter-widgets/controls",
            "_model_module_version": "1.5.0",
            "value": 543490667,
            "_view_count": null,
            "_view_module_version": "1.5.0",
            "orientation": "horizontal",
            "min": 0,
            "description_tooltip": null,
            "_model_module": "@jupyter-widgets/controls",
            "layout": "IPY_MODEL_665294bfb1dc4df589575e949624ed89"
          }
        },
        "7aa1d319a2644a3dab7e30e5aac56745": {
          "model_module": "@jupyter-widgets/controls",
          "model_name": "HTMLModel",
          "state": {
            "_view_name": "HTMLView",
            "style": "IPY_MODEL_206d97a3ece446db99e540b4087a3f92",
            "_dom_classes": [],
            "description": "",
            "_model_name": "HTMLModel",
            "placeholder": "​",
            "_view_module": "@jupyter-widgets/controls",
            "_model_module_version": "1.5.0",
            "value": " 543M/543M [00:16&lt;00:00, 32.5MB/s]",
            "_view_count": null,
            "_view_module_version": "1.5.0",
            "description_tooltip": null,
            "_model_module": "@jupyter-widgets/controls",
            "layout": "IPY_MODEL_cb825fc7c00040be850b37f75bb1d4a2"
          }
        },
        "83603d41867f43d397222adfbbcb5aca": {
          "model_module": "@jupyter-widgets/controls",
          "model_name": "ProgressStyleModel",
          "state": {
            "_view_name": "StyleView",
            "_model_name": "ProgressStyleModel",
            "description_width": "initial",
            "_view_module": "@jupyter-widgets/base",
            "_model_module_version": "1.5.0",
            "_view_count": null,
            "_view_module_version": "1.2.0",
            "bar_color": null,
            "_model_module": "@jupyter-widgets/controls"
          }
        },
        "665294bfb1dc4df589575e949624ed89": {
          "model_module": "@jupyter-widgets/base",
          "model_name": "LayoutModel",
          "state": {
            "_view_name": "LayoutView",
            "grid_template_rows": null,
            "right": null,
            "justify_content": null,
            "_view_module": "@jupyter-widgets/base",
            "overflow": null,
            "_model_module_version": "1.2.0",
            "_view_count": null,
            "flex_flow": null,
            "width": null,
            "min_width": null,
            "border": null,
            "align_items": null,
            "bottom": null,
            "_model_module": "@jupyter-widgets/base",
            "top": null,
            "grid_column": null,
            "overflow_y": null,
            "overflow_x": null,
            "grid_auto_flow": null,
            "grid_area": null,
            "grid_template_columns": null,
            "flex": null,
            "_model_name": "LayoutModel",
            "justify_items": null,
            "grid_row": null,
            "max_height": null,
            "align_content": null,
            "visibility": null,
            "align_self": null,
            "height": null,
            "min_height": null,
            "padding": null,
            "grid_auto_rows": null,
            "grid_gap": null,
            "max_width": null,
            "order": null,
            "_view_module_version": "1.2.0",
            "grid_template_areas": null,
            "object_position": null,
            "object_fit": null,
            "grid_auto_columns": null,
            "margin": null,
            "display": null,
            "left": null
          }
        },
        "206d97a3ece446db99e540b4087a3f92": {
          "model_module": "@jupyter-widgets/controls",
          "model_name": "DescriptionStyleModel",
          "state": {
            "_view_name": "StyleView",
            "_model_name": "DescriptionStyleModel",
            "description_width": "",
            "_view_module": "@jupyter-widgets/base",
            "_model_module_version": "1.5.0",
            "_view_count": null,
            "_view_module_version": "1.2.0",
            "_model_module": "@jupyter-widgets/controls"
          }
        },
        "cb825fc7c00040be850b37f75bb1d4a2": {
          "model_module": "@jupyter-widgets/base",
          "model_name": "LayoutModel",
          "state": {
            "_view_name": "LayoutView",
            "grid_template_rows": null,
            "right": null,
            "justify_content": null,
            "_view_module": "@jupyter-widgets/base",
            "overflow": null,
            "_model_module_version": "1.2.0",
            "_view_count": null,
            "flex_flow": null,
            "width": null,
            "min_width": null,
            "border": null,
            "align_items": null,
            "bottom": null,
            "_model_module": "@jupyter-widgets/base",
            "top": null,
            "grid_column": null,
            "overflow_y": null,
            "overflow_x": null,
            "grid_auto_flow": null,
            "grid_area": null,
            "grid_template_columns": null,
            "flex": null,
            "_model_name": "LayoutModel",
            "justify_items": null,
            "grid_row": null,
            "max_height": null,
            "align_content": null,
            "visibility": null,
            "align_self": null,
            "height": null,
            "min_height": null,
            "padding": null,
            "grid_auto_rows": null,
            "grid_gap": null,
            "max_width": null,
            "order": null,
            "_view_module_version": "1.2.0",
            "grid_template_areas": null,
            "object_position": null,
            "object_fit": null,
            "grid_auto_columns": null,
            "margin": null,
            "display": null,
            "left": null
          }
        },
        "3310986533aa4e5c9fe23a4b58645166": {
          "model_module": "@jupyter-widgets/controls",
          "model_name": "HBoxModel",
          "state": {
            "_view_name": "HBoxView",
            "_dom_classes": [],
            "_model_name": "HBoxModel",
            "_view_module": "@jupyter-widgets/controls",
            "_model_module_version": "1.5.0",
            "_view_count": null,
            "_view_module_version": "1.5.0",
            "box_style": "",
            "layout": "IPY_MODEL_5acd689f26ab4a6c970f32ecf0006ecf",
            "_model_module": "@jupyter-widgets/controls",
            "children": [
              "IPY_MODEL_ff783b9fa9c64d78868ee671a6fb7dfd",
              "IPY_MODEL_41a41e590c034252b567d153eb0a11e5"
            ]
          }
        },
        "5acd689f26ab4a6c970f32ecf0006ecf": {
          "model_module": "@jupyter-widgets/base",
          "model_name": "LayoutModel",
          "state": {
            "_view_name": "LayoutView",
            "grid_template_rows": null,
            "right": null,
            "justify_content": null,
            "_view_module": "@jupyter-widgets/base",
            "overflow": null,
            "_model_module_version": "1.2.0",
            "_view_count": null,
            "flex_flow": null,
            "width": null,
            "min_width": null,
            "border": null,
            "align_items": null,
            "bottom": null,
            "_model_module": "@jupyter-widgets/base",
            "top": null,
            "grid_column": null,
            "overflow_y": null,
            "overflow_x": null,
            "grid_auto_flow": null,
            "grid_area": null,
            "grid_template_columns": null,
            "flex": null,
            "_model_name": "LayoutModel",
            "justify_items": null,
            "grid_row": null,
            "max_height": null,
            "align_content": null,
            "visibility": null,
            "align_self": null,
            "height": null,
            "min_height": null,
            "padding": null,
            "grid_auto_rows": null,
            "grid_gap": null,
            "max_width": null,
            "order": null,
            "_view_module_version": "1.2.0",
            "grid_template_areas": null,
            "object_position": null,
            "object_fit": null,
            "grid_auto_columns": null,
            "margin": null,
            "display": null,
            "left": null
          }
        },
        "ff783b9fa9c64d78868ee671a6fb7dfd": {
          "model_module": "@jupyter-widgets/controls",
          "model_name": "FloatProgressModel",
          "state": {
            "_view_name": "ProgressView",
            "style": "IPY_MODEL_2558ad4710ca44528930ae57fa87aa2e",
            "_dom_classes": [],
            "description": "100%",
            "_model_name": "FloatProgressModel",
            "bar_style": "success",
            "max": 99,
            "_view_module": "@jupyter-widgets/controls",
            "_model_module_version": "1.5.0",
            "value": 99,
            "_view_count": null,
            "_view_module_version": "1.5.0",
            "orientation": "horizontal",
            "min": 0,
            "description_tooltip": null,
            "_model_module": "@jupyter-widgets/controls",
            "layout": "IPY_MODEL_ae97e474ba1d4015a5fa465336ce0965"
          }
        },
        "41a41e590c034252b567d153eb0a11e5": {
          "model_module": "@jupyter-widgets/controls",
          "model_name": "HTMLModel",
          "state": {
            "_view_name": "HTMLView",
            "style": "IPY_MODEL_eb81bcbe2059495180df8e2cf1d9c66f",
            "_dom_classes": [],
            "description": "",
            "_model_name": "HTMLModel",
            "placeholder": "​",
            "_view_module": "@jupyter-widgets/controls",
            "_model_module_version": "1.5.0",
            "value": " 99/99 [21:40&lt;00:00, 13.14s/it]",
            "_view_count": null,
            "_view_module_version": "1.5.0",
            "description_tooltip": null,
            "_model_module": "@jupyter-widgets/controls",
            "layout": "IPY_MODEL_8c3a5ab707044eb99f3337f4d4ca60f0"
          }
        },
        "2558ad4710ca44528930ae57fa87aa2e": {
          "model_module": "@jupyter-widgets/controls",
          "model_name": "ProgressStyleModel",
          "state": {
            "_view_name": "StyleView",
            "_model_name": "ProgressStyleModel",
            "description_width": "initial",
            "_view_module": "@jupyter-widgets/base",
            "_model_module_version": "1.5.0",
            "_view_count": null,
            "_view_module_version": "1.2.0",
            "bar_color": null,
            "_model_module": "@jupyter-widgets/controls"
          }
        },
        "ae97e474ba1d4015a5fa465336ce0965": {
          "model_module": "@jupyter-widgets/base",
          "model_name": "LayoutModel",
          "state": {
            "_view_name": "LayoutView",
            "grid_template_rows": null,
            "right": null,
            "justify_content": null,
            "_view_module": "@jupyter-widgets/base",
            "overflow": null,
            "_model_module_version": "1.2.0",
            "_view_count": null,
            "flex_flow": null,
            "width": null,
            "min_width": null,
            "border": null,
            "align_items": null,
            "bottom": null,
            "_model_module": "@jupyter-widgets/base",
            "top": null,
            "grid_column": null,
            "overflow_y": null,
            "overflow_x": null,
            "grid_auto_flow": null,
            "grid_area": null,
            "grid_template_columns": null,
            "flex": null,
            "_model_name": "LayoutModel",
            "justify_items": null,
            "grid_row": null,
            "max_height": null,
            "align_content": null,
            "visibility": null,
            "align_self": null,
            "height": null,
            "min_height": null,
            "padding": null,
            "grid_auto_rows": null,
            "grid_gap": null,
            "max_width": null,
            "order": null,
            "_view_module_version": "1.2.0",
            "grid_template_areas": null,
            "object_position": null,
            "object_fit": null,
            "grid_auto_columns": null,
            "margin": null,
            "display": null,
            "left": null
          }
        },
        "eb81bcbe2059495180df8e2cf1d9c66f": {
          "model_module": "@jupyter-widgets/controls",
          "model_name": "DescriptionStyleModel",
          "state": {
            "_view_name": "StyleView",
            "_model_name": "DescriptionStyleModel",
            "description_width": "",
            "_view_module": "@jupyter-widgets/base",
            "_model_module_version": "1.5.0",
            "_view_count": null,
            "_view_module_version": "1.2.0",
            "_model_module": "@jupyter-widgets/controls"
          }
        },
        "8c3a5ab707044eb99f3337f4d4ca60f0": {
          "model_module": "@jupyter-widgets/base",
          "model_name": "LayoutModel",
          "state": {
            "_view_name": "LayoutView",
            "grid_template_rows": null,
            "right": null,
            "justify_content": null,
            "_view_module": "@jupyter-widgets/base",
            "overflow": null,
            "_model_module_version": "1.2.0",
            "_view_count": null,
            "flex_flow": null,
            "width": null,
            "min_width": null,
            "border": null,
            "align_items": null,
            "bottom": null,
            "_model_module": "@jupyter-widgets/base",
            "top": null,
            "grid_column": null,
            "overflow_y": null,
            "overflow_x": null,
            "grid_auto_flow": null,
            "grid_area": null,
            "grid_template_columns": null,
            "flex": null,
            "_model_name": "LayoutModel",
            "justify_items": null,
            "grid_row": null,
            "max_height": null,
            "align_content": null,
            "visibility": null,
            "align_self": null,
            "height": null,
            "min_height": null,
            "padding": null,
            "grid_auto_rows": null,
            "grid_gap": null,
            "max_width": null,
            "order": null,
            "_view_module_version": "1.2.0",
            "grid_template_areas": null,
            "object_position": null,
            "object_fit": null,
            "grid_auto_columns": null,
            "margin": null,
            "display": null,
            "left": null
          }
        }
      }
    }
  },
  "cells": [
    {
      "cell_type": "markdown",
      "metadata": {
        "id": "view-in-github",
        "colab_type": "text"
      },
      "source": [
        "<a href=\"https://colab.research.google.com/github/omarhatem97/ANER_DEV/blob/main/NER_ANER.ipynb\" target=\"_parent\"><img src=\"https://colab.research.google.com/assets/colab-badge.svg\" alt=\"Open In Colab\"/></a>"
      ]
    },
    {
      "cell_type": "markdown",
      "metadata": {
        "id": "_RPpBgnURDWY"
      },
      "source": [
        "# Fine Tuning Arabert Model to do NER Task"
      ]
    },
    {
      "cell_type": "markdown",
      "metadata": {
        "id": "Ml3jN74SzSkA"
      },
      "source": [
        "### Environment setup"
      ]
    },
    {
      "cell_type": "code",
      "metadata": {
        "colab": {
          "base_uri": "https://localhost:8080/"
        },
        "id": "amGAPB1SRlOL",
        "outputId": "27f94c1b-de2b-4144-9a37-245f4e4b4969"
      },
      "source": [
        "import torch\n",
        "\n",
        "# If there's a GPU available...\n",
        "if torch.cuda.is_available():    \n",
        "\n",
        "    # Tell PyTorch to use the GPU.    \n",
        "    device = torch.device(\"cuda\")\n",
        "\n",
        "    print('There are %d GPU(s) available.' % torch.cuda.device_count())\n",
        "\n",
        "    print('We will use the GPU:', torch.cuda.get_device_name(0))\n",
        "    !nvidia-smi\n",
        "\n",
        "# If not...\n",
        "else:\n",
        "    print('No GPU available, using the CPU instead.')\n",
        "    device = torch.device(\"cpu\")"
      ],
      "execution_count": null,
      "outputs": [
        {
          "output_type": "stream",
          "text": [
            "No GPU available, using the CPU instead.\n"
          ],
          "name": "stdout"
        }
      ]
    },
    {
      "cell_type": "code",
      "metadata": {
        "colab": {
          "base_uri": "https://localhost:8080/"
        },
        "id": "BKo_mTT8Q_wK",
        "outputId": "2f8b79a9-0cbf-4252-a373-d6611005fbe8"
      },
      "source": [
        "\n",
        "# get the dataset \n",
        "!gdown --id  1bYDqmEYKpVmVyGc9Vmz3W_2bsPMel6UC\n",
        "\n",
        "\n",
        "# The label_lsit file\n",
        "!gdown --id  1th3j28peQf-asgodeaGo-04aIARN0QoL\n",
        "\n",
        "\n",
        "\n",
        "\n",
        "\n",
        "\n",
        "\n",
        "!pip install transformers \n",
        "!pip install pyarabic\n",
        "!pip install seqeval\n",
        "!git clone https://github.com/aub-mind/arabert"
      ],
      "execution_count": null,
      "outputs": [
        {
          "output_type": "stream",
          "text": [
            "Downloading...\n",
            "From: https://drive.google.com/uc?id=1bYDqmEYKpVmVyGc9Vmz3W_2bsPMel6UC\n",
            "To: /content/dataset_1.0.txt\n",
            "6.03MB [00:00, 95.0MB/s]\n",
            "Downloading...\n",
            "From: https://drive.google.com/uc?id=1th3j28peQf-asgodeaGo-04aIARN0QoL\n",
            "To: /content/label_list.txt\n",
            "100% 1.22k/1.22k [00:00<00:00, 3.01MB/s]\n",
            "Downloading...\n",
            "From: https://drive.google.com/uc?id=1-1S27QQYAsFpxXDgs2slPq3D10QvgA20\n",
            "To: /content/aqmar_test.txt\n",
            "100% 31.5k/31.5k [00:00<00:00, 12.3MB/s]\n",
            "Downloading...\n",
            "From: https://drive.google.com/uc?id=1Iv-FwkBt0MXsqNG1Sb7HWhslrxCSk1X4\n",
            "To: /content/aqmar_label_list.txt\n",
            "100% 95.0/95.0 [00:00<00:00, 206kB/s]\n",
            "Collecting transformers\n",
            "\u001b[?25l  Downloading https://files.pythonhosted.org/packages/fd/1a/41c644c963249fd7f3836d926afa1e3f1cc234a1c40d80c5f03ad8f6f1b2/transformers-4.8.2-py3-none-any.whl (2.5MB)\n",
            "\u001b[K     |████████████████████████████████| 2.5MB 5.2MB/s \n",
            "\u001b[?25hCollecting sacremoses\n",
            "\u001b[?25l  Downloading https://files.pythonhosted.org/packages/75/ee/67241dc87f266093c533a2d4d3d69438e57d7a90abb216fa076e7d475d4a/sacremoses-0.0.45-py3-none-any.whl (895kB)\n",
            "\u001b[K     |████████████████████████████████| 901kB 44.4MB/s \n",
            "\u001b[?25hRequirement already satisfied: importlib-metadata; python_version < \"3.8\" in /usr/local/lib/python3.7/dist-packages (from transformers) (4.6.1)\n",
            "Requirement already satisfied: tqdm>=4.27 in /usr/local/lib/python3.7/dist-packages (from transformers) (4.41.1)\n",
            "Requirement already satisfied: numpy>=1.17 in /usr/local/lib/python3.7/dist-packages (from transformers) (1.19.5)\n",
            "Requirement already satisfied: regex!=2019.12.17 in /usr/local/lib/python3.7/dist-packages (from transformers) (2019.12.20)\n",
            "Collecting tokenizers<0.11,>=0.10.1\n",
            "\u001b[?25l  Downloading https://files.pythonhosted.org/packages/d4/e2/df3543e8ffdab68f5acc73f613de9c2b155ac47f162e725dcac87c521c11/tokenizers-0.10.3-cp37-cp37m-manylinux_2_5_x86_64.manylinux1_x86_64.manylinux_2_12_x86_64.manylinux2010_x86_64.whl (3.3MB)\n",
            "\u001b[K     |████████████████████████████████| 3.3MB 30.4MB/s \n",
            "\u001b[?25hCollecting huggingface-hub==0.0.12\n",
            "  Downloading https://files.pythonhosted.org/packages/2f/ee/97e253668fda9b17e968b3f97b2f8e53aa0127e8807d24a547687423fe0b/huggingface_hub-0.0.12-py3-none-any.whl\n",
            "Requirement already satisfied: pyyaml in /usr/local/lib/python3.7/dist-packages (from transformers) (3.13)\n",
            "Requirement already satisfied: packaging in /usr/local/lib/python3.7/dist-packages (from transformers) (21.0)\n",
            "Requirement already satisfied: requests in /usr/local/lib/python3.7/dist-packages (from transformers) (2.23.0)\n",
            "Requirement already satisfied: filelock in /usr/local/lib/python3.7/dist-packages (from transformers) (3.0.12)\n",
            "Requirement already satisfied: click in /usr/local/lib/python3.7/dist-packages (from sacremoses->transformers) (7.1.2)\n",
            "Requirement already satisfied: six in /usr/local/lib/python3.7/dist-packages (from sacremoses->transformers) (1.15.0)\n",
            "Requirement already satisfied: joblib in /usr/local/lib/python3.7/dist-packages (from sacremoses->transformers) (1.0.1)\n",
            "Requirement already satisfied: typing-extensions>=3.6.4; python_version < \"3.8\" in /usr/local/lib/python3.7/dist-packages (from importlib-metadata; python_version < \"3.8\"->transformers) (3.7.4.3)\n",
            "Requirement already satisfied: zipp>=0.5 in /usr/local/lib/python3.7/dist-packages (from importlib-metadata; python_version < \"3.8\"->transformers) (3.5.0)\n",
            "Requirement already satisfied: pyparsing>=2.0.2 in /usr/local/lib/python3.7/dist-packages (from packaging->transformers) (2.4.7)\n",
            "Requirement already satisfied: chardet<4,>=3.0.2 in /usr/local/lib/python3.7/dist-packages (from requests->transformers) (3.0.4)\n",
            "Requirement already satisfied: urllib3!=1.25.0,!=1.25.1,<1.26,>=1.21.1 in /usr/local/lib/python3.7/dist-packages (from requests->transformers) (1.24.3)\n",
            "Requirement already satisfied: idna<3,>=2.5 in /usr/local/lib/python3.7/dist-packages (from requests->transformers) (2.10)\n",
            "Requirement already satisfied: certifi>=2017.4.17 in /usr/local/lib/python3.7/dist-packages (from requests->transformers) (2021.5.30)\n",
            "Installing collected packages: sacremoses, tokenizers, huggingface-hub, transformers\n",
            "Successfully installed huggingface-hub-0.0.12 sacremoses-0.0.45 tokenizers-0.10.3 transformers-4.8.2\n",
            "Collecting pyarabic\n",
            "\u001b[?25l  Downloading https://files.pythonhosted.org/packages/76/0e/716094532d87405011677fe8454eaac7305d4a2512aa4118c8a38b8aedfb/PyArabic-0.6.11-py3-none-any.whl (126kB)\n",
            "\u001b[K     |████████████████████████████████| 133kB 4.9MB/s \n",
            "\u001b[?25hInstalling collected packages: pyarabic\n",
            "Successfully installed pyarabic-0.6.11\n",
            "Collecting seqeval\n",
            "\u001b[?25l  Downloading https://files.pythonhosted.org/packages/9d/2d/233c79d5b4e5ab1dbf111242299153f3caddddbb691219f363ad55ce783d/seqeval-1.2.2.tar.gz (43kB)\n",
            "\u001b[K     |████████████████████████████████| 51kB 2.8MB/s \n",
            "\u001b[?25hRequirement already satisfied: numpy>=1.14.0 in /usr/local/lib/python3.7/dist-packages (from seqeval) (1.19.5)\n",
            "Requirement already satisfied: scikit-learn>=0.21.3 in /usr/local/lib/python3.7/dist-packages (from seqeval) (0.22.2.post1)\n",
            "Requirement already satisfied: joblib>=0.11 in /usr/local/lib/python3.7/dist-packages (from scikit-learn>=0.21.3->seqeval) (1.0.1)\n",
            "Requirement already satisfied: scipy>=0.17.0 in /usr/local/lib/python3.7/dist-packages (from scikit-learn>=0.21.3->seqeval) (1.4.1)\n",
            "Building wheels for collected packages: seqeval\n",
            "  Building wheel for seqeval (setup.py) ... \u001b[?25l\u001b[?25hdone\n",
            "  Created wheel for seqeval: filename=seqeval-1.2.2-cp37-none-any.whl size=16184 sha256=fb3b2dce1dfa5ed53c0f6aa9de28995f38e85a897a803b832b426f8bda5589c2\n",
            "  Stored in directory: /root/.cache/pip/wheels/52/df/1b/45d75646c37428f7e626214704a0e35bd3cfc32eda37e59e5f\n",
            "Successfully built seqeval\n",
            "Installing collected packages: seqeval\n",
            "Successfully installed seqeval-1.2.2\n",
            "Cloning into 'arabert'...\n",
            "remote: Enumerating objects: 530, done.\u001b[K\n",
            "remote: Counting objects: 100% (316/316), done.\u001b[K\n",
            "remote: Compressing objects: 100% (228/228), done.\u001b[K\n",
            "remote: Total 530 (delta 167), reused 226 (delta 82), pack-reused 214\u001b[K\n",
            "Receiving objects: 100% (530/530), 4.86 MiB | 6.03 MiB/s, done.\n",
            "Resolving deltas: 100% (290/290), done.\n"
          ],
          "name": "stdout"
        }
      ]
    },
    {
      "cell_type": "code",
      "metadata": {
        "id": "omPkPFWOR4yI"
      },
      "source": [
        "import pandas as pd\n",
        "import numpy as np\n",
        "from sklearn.metrics import classification_report\n",
        "from  tqdm.notebook import tqdm\n",
        "from sklearn.model_selection import train_test_split\n",
        "\n",
        "import matplotlib.pyplot as plt\n",
        "from collections import Counter\n"
      ],
      "execution_count": null,
      "outputs": []
    },
    {
      "cell_type": "code",
      "metadata": {
        "id": "9O5GEuy9zLdb"
      },
      "source": [
        "from arabert.preprocess import ArabertPreprocessor\n",
        "import numpy as np\n",
        "\n",
        "from seqeval.metrics import accuracy_score, f1_score, precision_score, recall_score\n",
        "from transformers import AutoConfig, AutoModelForTokenClassification, AutoTokenizer, BertForTokenClassification, AdamW, get_linear_schedule_with_warmup\n",
        "from transformers import Trainer , TrainingArguments\n",
        "from transformers.trainer_utils import EvaluationStrategy\n",
        "from transformers.data.processors.utils import InputFeatures\n",
        "from torch.utils.data import Dataset\n",
        "from torch.utils.data import DataLoader\n",
        "from sklearn.utils import resample\n",
        "import logging\n",
        "import torch\n",
        "from torch import nn\n",
        "\n",
        "%load_ext google.colab.data_table"
      ],
      "execution_count": null,
      "outputs": []
    },
    {
      "cell_type": "markdown",
      "metadata": {
        "id": "QKvjJKH_SLxY"
      },
      "source": [
        "## Preprocessing\n",
        "\n",
        "In this part, we take the dataset, and convert it to list of sentences using the newline token to get the end of each sentence\n"
      ]
    },
    {
      "cell_type": "markdown",
      "metadata": {
        "id": "LvseDejXSRa5"
      },
      "source": [
        "This function will make a dataset of sentences \n",
        "\n",
        "returns: list of shape: \n",
        "  [no_sentences] *  [ [words] , [tags] ]"
      ]
    },
    {
      "cell_type": "code",
      "metadata": {
        "id": "YGKoNP2iSA8j"
      },
      "source": [
        "def read_dataset(path):\n",
        "  with open(path,'r',encoding='utf-8') as f:\n",
        "    data = []\n",
        "    sentence = []\n",
        "    label = []\n",
        "    for line in f:\n",
        "      # line = line.replace(u'\\u200e','')\n",
        "      # line = line.replace(u'\\ufeff','')\n",
        "      if '[NEWLINE]' in line:\n",
        "        if len(sentence) > 0:\n",
        "          data.append([sentence,label])\n",
        "          sentence = []\n",
        "          label = []\n",
        "        continue\n",
        "      line = line.strip('\\n')\n",
        "      splits = line.split(' ')\n",
        "      sentence.append(splits[0])\n",
        "      label.append(splits[1])\n",
        "    if len(sentence) > 0:\n",
        "      data.append([sentence,label])\n",
        "  return data"
      ],
      "execution_count": null,
      "outputs": []
    },
    {
      "cell_type": "markdown",
      "metadata": {
        "id": "wn5LyEZ7ZQ1S"
      },
      "source": [
        "Here we can see after converting the dataset into sentences, that we have 15763 Sentence"
      ]
    },
    {
      "cell_type": "code",
      "metadata": {
        "colab": {
          "base_uri": "https://localhost:8080/"
        },
        "id": "uKlNr89VSbf2",
        "outputId": "cda33f54-56f2-4c41-d8fe-caa20d506ec1"
      },
      "source": [
        "\n",
        "data = read_dataset('dataset_1.0.txt')\n",
        "print(len(data))\n"
      ],
      "execution_count": null,
      "outputs": [
        {
          "output_type": "stream",
          "text": [
            "15763\n"
          ],
          "name": "stdout"
        }
      ]
    },
    {
      "cell_type": "code",
      "metadata": {
        "colab": {
          "base_uri": "https://localhost:8080/",
          "height": 126
        },
        "id": "_yjFiUUWSz-e",
        "outputId": "314b742d-c2ab-4e05-bd03-eaddc23251f2"
      },
      "source": [
        "df = pd.DataFrame(data, columns=['text', 'tags'])\n",
        "df.head(1)\n"
      ],
      "execution_count": null,
      "outputs": [
        {
          "output_type": "execute_result",
          "data": {
            "application/vnd.google.colaboratory.module+javascript": "\n      import \"https://ssl.gstatic.com/colaboratory/data_table/a6224c040fa35dcf/data_table.js\";\n\n      window.createDataTable({\n        data: [[{\n            'v': 0,\n            'f': \"0\",\n        },\n[\"\\u062c\\u0645\\u0647\\u0648\\u0631\\u064a\\u0629\", \"\\u062c\\u0646\\u0648\\u0628\", \"\\u0627\\u0644\\u0633\\u0648\\u062f\\u0627\\u0646\", \"\\u060c\", \"\\u0647\\u064a\", \"\\u062f\\u0648\\u0644\\u0629\", \"\\u062a\\u0642\\u0639\", \"\\u0641\\u064a\", \"\\u0634\\u0631\\u0642\", \"\\u0627\\u0641\\u0631\\u064a\\u0642\\u064a\\u0627\", \"\\u060c\", \"\\u0648\", \"\\u062a\\u0639\\u062a\\u0628\\u0631\", \"\\u0645\\u062f\\u064a\\u0646\\u0629\", \"\\u062c\\u0648\\u0628\\u0627\", \"\\u0639\\u0627\\u0635\\u0645\\u0629\", \"\\u0647\\u0627\", \"\\u0648\", \"\\u0627\\u0643\\u0628\\u0631\", \"\\u0645\\u062f\\u0646\", \"\\u0647\\u0627\", \"\\u060c\", \"\\u0648\", \"\\u0645\\u0646\", \"\\u0627\\u0643\\u0628\\u0631\", \"\\u0645\\u062f\\u0646\", \"\\u0647\\u0627\", \"\\u0647\\u064a\", \"\\u0648\\u0627\\u0648\", \"\\u0648\", \"\\u0645\\u0644\\u0643\\u0627\\u0644\", \"\\u0648\", \"\\u0631\\u0648\\u0645\\u0628\\u064a\\u0643\", \"\\u0648\", \"\\u0627\\u0648\\u064a\\u0644\", \"\\u0648\\u064a\\u0627\\u064a\", \".\"],\n[\"B-Nation\", \"I-Nation\", \"I-Nation\", \"O\", \"O\", \"O\", \"O\", \"O\", \"O\", \"B-Continent\", \"O\", \"O\", \"O\", \"O\", \"B-Population-Center\", \"O\", \"O\", \"O\", \"O\", \"O\", \"O\", \"O\", \"O\", \"O\", \"O\", \"O\", \"O\", \"O\", \"B-Population-Center\", \"O\", \"B-Population-Center\", \"O\", \"B-Population-Center\", \"O\", \"B-Population-Center\", \"I-Population-Center\", \"O\"]]],\n        columns: [[\"number\", \"index\"], [\"string\", \"text\"], [\"string\", \"tags\"]],\n        columnOptions: [{\"width\": \"1px\", \"className\": \"index_column\"}],\n        rowsPerPage: 25,\n        helpUrl: \"https://colab.research.google.com/notebooks/data_table.ipynb\",\n        suppressOutputScrolling: true,\n        minimumWidth: undefined,\n      });\n    ",
            "text/html": [
              "<div>\n",
              "<style scoped>\n",
              "    .dataframe tbody tr th:only-of-type {\n",
              "        vertical-align: middle;\n",
              "    }\n",
              "\n",
              "    .dataframe tbody tr th {\n",
              "        vertical-align: top;\n",
              "    }\n",
              "\n",
              "    .dataframe thead th {\n",
              "        text-align: right;\n",
              "    }\n",
              "</style>\n",
              "<table border=\"1\" class=\"dataframe\">\n",
              "  <thead>\n",
              "    <tr style=\"text-align: right;\">\n",
              "      <th></th>\n",
              "      <th>text</th>\n",
              "      <th>tags</th>\n",
              "    </tr>\n",
              "  </thead>\n",
              "  <tbody>\n",
              "    <tr>\n",
              "      <th>0</th>\n",
              "      <td>[جمهورية, جنوب, السودان, ،, هي, دولة, تقع, في,...</td>\n",
              "      <td>[B-Nation, I-Nation, I-Nation, O, O, O, O, O, ...</td>\n",
              "    </tr>\n",
              "  </tbody>\n",
              "</table>\n",
              "</div>"
            ],
            "text/plain": [
              "                                                text                                               tags\n",
              "0  [جمهورية, جنوب, السودان, ،, هي, دولة, تقع, في,...  [B-Nation, I-Nation, I-Nation, O, O, O, O, O, ..."
            ]
          },
          "metadata": {
            "tags": []
          },
          "execution_count": 11
        }
      ]
    },
    {
      "cell_type": "markdown",
      "metadata": {
        "id": "WxJw40QPZuo7"
      },
      "source": [
        "Here we get the list of all classes we have"
      ]
    },
    {
      "cell_type": "code",
      "metadata": {
        "id": "krfSvW1YGQ1d",
        "colab": {
          "base_uri": "https://localhost:8080/"
        },
        "outputId": "067bbcc9-f0e2-4cad-a402-085e946b6f6c"
      },
      "source": [
        "label_list = list(pd.read_csv('label_list.txt', header=None, index_col=0).T)\n",
        "\n",
        "label_map = { v:index for index, v in enumerate(label_list) }\n",
        "inv_label_map = {i: label for i, label in enumerate(label_list)}\n",
        "\n",
        "print(label_map)\n",
        "print(inv_label_map)"
      ],
      "execution_count": null,
      "outputs": [
        {
          "output_type": "stream",
          "text": [
            "{'O': 0, 'B-Artist': 1, 'I-Artist': 2, 'B-Sound': 3, 'I-Sound': 4, 'B-Educational': 5, 'I-Educational': 6, 'B-Building-Grounds': 7, 'I-Building-Grounds': 8, 'B-Population-Center': 9, 'B-Nation': 10, 'B-State-or-Province': 11, 'I-State-or-Province': 12, 'B-Water-Body': 13, 'I-Water-Body': 14, 'B-Land-Region-Natural': 15, 'I-Land-Region-Natural': 16, 'B-Software': 17, 'I-Software': 18, 'B-Scientist': 19, 'B-Book': 20, 'I-Book': 21, 'I-Scientist': 22, 'B-Group': 23, 'B-Celestial': 24, 'B-Police': 25, 'I-Police': 26, 'I-Population-Center': 27, 'I-Celestial': 28, 'B-Engineer': 29, 'I-Engineer': 30, 'B-Projectile': 31, 'B-Government': 32, 'I-Government': 33, 'B-Commercial': 34, 'I-Commercial': 35, 'B-Continent': 36, 'B-Air': 37, 'I-Air': 38, 'B-Other_PER': 39, 'I-Other_PER': 40, 'I-Group': 41, 'B-Politician': 42, 'I-Politician': 43, 'B-Athlete': 44, 'I-Athlete': 45, 'B-Religious_ORG': 46, 'I-Religious_ORG': 47, 'B-Path': 48, 'I-Path': 49, 'B-Media': 50, 'I-Media': 51, 'B-Non-Governmental': 52, 'I-Non-Governmental': 53, 'B-County-or-District': 54, 'I-County-or-District': 55, 'B-Businessperson': 56, 'B-Lawyer': 57, 'I-Lawyer': 58, 'B-GPE-Cluster': 59, 'I-GPE-Cluster': 60, 'I-Nation': 61, 'B-Religious_PER': 62, 'I-Religious_PER': 63, 'I-Businessperson': 64, 'B-Medical-Science': 65, 'I-Medical-Science': 66, 'B-Movie': 67, 'I-Movie': 68, 'B-Water': 69, 'I-Water': 70, 'B-Drug': 71, 'B-Hardware': 72, 'I-Hardware': 73, 'B-Subarea-Facility': 74, 'I-Subarea-Facility': 75, 'B-Blunt': 76, 'B-Airport': 77, 'I-Blunt': 78, 'I-Drug': 79, 'B-Sports': 80, 'I-Sports': 81, 'B-Shooting': 82, 'I-Shooting': 83, 'B-Food': 84, 'I-Food': 85, 'I-Continent': 86, 'B-Nuclear': 87, 'I-Nuclear': 88, 'B-Entertainment': 89, 'I-Entertainment': 90, 'I-Projectile': 91, 'B-Land': 92, 'B-Sharp': 93, 'I-Airport': 94, 'I-Land': 95, 'B-Plant': 96, 'I-Plant': 97, 'B-Exploding': 98, 'I-Exploding': 99, 'B-Chemical': 100, 'I-Chemical': 101}\n",
            "{0: 'O', 1: 'B-Artist', 2: 'I-Artist', 3: 'B-Sound', 4: 'I-Sound', 5: 'B-Educational', 6: 'I-Educational', 7: 'B-Building-Grounds', 8: 'I-Building-Grounds', 9: 'B-Population-Center', 10: 'B-Nation', 11: 'B-State-or-Province', 12: 'I-State-or-Province', 13: 'B-Water-Body', 14: 'I-Water-Body', 15: 'B-Land-Region-Natural', 16: 'I-Land-Region-Natural', 17: 'B-Software', 18: 'I-Software', 19: 'B-Scientist', 20: 'B-Book', 21: 'I-Book', 22: 'I-Scientist', 23: 'B-Group', 24: 'B-Celestial', 25: 'B-Police', 26: 'I-Police', 27: 'I-Population-Center', 28: 'I-Celestial', 29: 'B-Engineer', 30: 'I-Engineer', 31: 'B-Projectile', 32: 'B-Government', 33: 'I-Government', 34: 'B-Commercial', 35: 'I-Commercial', 36: 'B-Continent', 37: 'B-Air', 38: 'I-Air', 39: 'B-Other_PER', 40: 'I-Other_PER', 41: 'I-Group', 42: 'B-Politician', 43: 'I-Politician', 44: 'B-Athlete', 45: 'I-Athlete', 46: 'B-Religious_ORG', 47: 'I-Religious_ORG', 48: 'B-Path', 49: 'I-Path', 50: 'B-Media', 51: 'I-Media', 52: 'B-Non-Governmental', 53: 'I-Non-Governmental', 54: 'B-County-or-District', 55: 'I-County-or-District', 56: 'B-Businessperson', 57: 'B-Lawyer', 58: 'I-Lawyer', 59: 'B-GPE-Cluster', 60: 'I-GPE-Cluster', 61: 'I-Nation', 62: 'B-Religious_PER', 63: 'I-Religious_PER', 64: 'I-Businessperson', 65: 'B-Medical-Science', 66: 'I-Medical-Science', 67: 'B-Movie', 68: 'I-Movie', 69: 'B-Water', 70: 'I-Water', 71: 'B-Drug', 72: 'B-Hardware', 73: 'I-Hardware', 74: 'B-Subarea-Facility', 75: 'I-Subarea-Facility', 76: 'B-Blunt', 77: 'B-Airport', 78: 'I-Blunt', 79: 'I-Drug', 80: 'B-Sports', 81: 'I-Sports', 82: 'B-Shooting', 83: 'I-Shooting', 84: 'B-Food', 85: 'I-Food', 86: 'I-Continent', 87: 'B-Nuclear', 88: 'I-Nuclear', 89: 'B-Entertainment', 90: 'I-Entertainment', 91: 'I-Projectile', 92: 'B-Land', 93: 'B-Sharp', 94: 'I-Airport', 95: 'I-Land', 96: 'B-Plant', 97: 'I-Plant', 98: 'B-Exploding', 99: 'I-Exploding', 100: 'B-Chemical', 101: 'I-Chemical'}\n"
          ],
          "name": "stdout"
        }
      ]
    },
    {
      "cell_type": "markdown",
      "metadata": {
        "id": "szAgZufweY6j"
      },
      "source": [
        "## Dataset splits\n"
      ]
    },
    {
      "cell_type": "markdown",
      "metadata": {
        "id": "pZ71g7W3Z9SD"
      },
      "source": [
        "We splitthe Dataset into:  90% Train, 10% Valdiation, and 10% Test"
      ]
    },
    {
      "cell_type": "code",
      "metadata": {
        "id": "hOpLO-H4eYKe",
        "colab": {
          "base_uri": "https://localhost:8080/",
          "height": 214
        },
        "outputId": "122c4e94-bde9-4375-b7e3-5b86e4095dce"
      },
      "source": [
        " train_data, test_data = train_test_split(data,test_size= 0.2)\n",
        "\n",
        " test_data , eval_data = train_test_split(test_data,test_size= 0.5)"
      ],
      "execution_count": null,
      "outputs": [
        {
          "output_type": "error",
          "ename": "NameError",
          "evalue": "ignored",
          "traceback": [
            "\u001b[0;31m---------------------------------------------------------------------------\u001b[0m",
            "\u001b[0;31mNameError\u001b[0m                                 Traceback (most recent call last)",
            "\u001b[0;32m<ipython-input-1-b80a36a4b0b8>\u001b[0m in \u001b[0;36m<module>\u001b[0;34m()\u001b[0m\n\u001b[0;32m----> 1\u001b[0;31m \u001b[0mtest_data\u001b[0m \u001b[0;34m=\u001b[0m \u001b[0mdata\u001b[0m\u001b[0;34m\u001b[0m\u001b[0;34m\u001b[0m\u001b[0m\n\u001b[0m\u001b[1;32m      2\u001b[0m \u001b[0;31m#  train_data, test_data = train_test_split(data,test_size= 0.2)\u001b[0m\u001b[0;34m\u001b[0m\u001b[0;34m\u001b[0m\u001b[0;34m\u001b[0m\u001b[0m\n\u001b[1;32m      3\u001b[0m \u001b[0;34m\u001b[0m\u001b[0m\n\u001b[1;32m      4\u001b[0m \u001b[0;31m#  test_data , eval_data = train_test_split(test_data,test_size= 0.5)\u001b[0m\u001b[0;34m\u001b[0m\u001b[0;34m\u001b[0m\u001b[0;34m\u001b[0m\u001b[0m\n",
            "\u001b[0;31mNameError\u001b[0m: name 'data' is not defined"
          ]
        }
      ]
    },
    {
      "cell_type": "code",
      "metadata": {
        "colab": {
          "base_uri": "https://localhost:8080/",
          "height": 197
        },
        "id": "YEi_vRw0HtUD",
        "outputId": "f39d8750-bf43-4c96-fc0f-fe31c80c1bb1"
      },
      "source": [
        "print(len(train_data))\n",
        "print(len(test_data))\n",
        "print(len(eval_data))"
      ],
      "execution_count": null,
      "outputs": [
        {
          "output_type": "error",
          "ename": "NameError",
          "evalue": "ignored",
          "traceback": [
            "\u001b[0;31m---------------------------------------------------------------------------\u001b[0m",
            "\u001b[0;31mNameError\u001b[0m                                 Traceback (most recent call last)",
            "\u001b[0;32m<ipython-input-2-f5f9fabe8ad4>\u001b[0m in \u001b[0;36m<module>\u001b[0;34m()\u001b[0m\n\u001b[0;32m----> 1\u001b[0;31m \u001b[0mprint\u001b[0m\u001b[0;34m(\u001b[0m\u001b[0mlen\u001b[0m\u001b[0;34m(\u001b[0m\u001b[0mtrain_data\u001b[0m\u001b[0;34m)\u001b[0m\u001b[0;34m)\u001b[0m\u001b[0;34m\u001b[0m\u001b[0;34m\u001b[0m\u001b[0m\n\u001b[0m\u001b[1;32m      2\u001b[0m \u001b[0mprint\u001b[0m\u001b[0;34m(\u001b[0m\u001b[0mlen\u001b[0m\u001b[0;34m(\u001b[0m\u001b[0mtest_data\u001b[0m\u001b[0;34m)\u001b[0m\u001b[0;34m)\u001b[0m\u001b[0;34m\u001b[0m\u001b[0;34m\u001b[0m\u001b[0m\n\u001b[1;32m      3\u001b[0m \u001b[0mprint\u001b[0m\u001b[0;34m(\u001b[0m\u001b[0mlen\u001b[0m\u001b[0;34m(\u001b[0m\u001b[0meval_data\u001b[0m\u001b[0;34m)\u001b[0m\u001b[0;34m)\u001b[0m\u001b[0;34m\u001b[0m\u001b[0;34m\u001b[0m\u001b[0m\n",
            "\u001b[0;31mNameError\u001b[0m: name 'train_data' is not defined"
          ]
        }
      ]
    },
    {
      "cell_type": "markdown",
      "metadata": {
        "id": "ViJtYz8GaVop"
      },
      "source": [
        "Here we get the frequency of each class in dataset"
      ]
    },
    {
      "cell_type": "code",
      "metadata": {
        "colab": {
          "base_uri": "https://localhost:8080/"
        },
        "id": "kmfXS6QOWYZ0",
        "outputId": "1bb79d4f-1d1a-4840-83cd-3c8c1dcf0da8"
      },
      "source": [
        "print(Counter([ label for sentence in train_data for label in sentence[1]]))\n",
        "print(Counter([ label for sentence in test_data for label in sentence[1]]))\n",
        "\n"
      ],
      "execution_count": null,
      "outputs": [
        {
          "output_type": "stream",
          "text": [
            "Counter({'O': 339640, 'B-Population-Center': 4486, 'B-Nation': 4000, 'I-Politician': 2831, 'B-Group': 2273, 'B-Politician': 2221, 'B-Water-Body': 1353, 'I-Religious_PER': 1333, 'B-State-or-Province': 1186, 'I-Artist': 1043, 'I-Water-Body': 1009, 'I-Population-Center': 980, 'I-Scientist': 948, 'I-Building-Grounds': 942, 'B-Other_PER': 936, 'I-Commercial': 916, 'I-Non-Governmental': 911, 'B-Artist': 906, 'B-Commercial': 851, 'I-Other_PER': 840, 'I-Nation': 820, 'I-Government': 814, 'B-Scientist': 765, 'B-Building-Grounds': 711, 'I-Air': 676, 'B-Religious_PER': 650, 'B-Celestial': 627, 'I-Book': 621, 'B-Non-Governmental': 621, 'I-Educational': 588, 'B-Government': 571, 'B-Police': 554, 'I-Athlete': 535, 'B-Athlete': 533, 'I-Software': 528, 'I-Media': 519, 'B-Air': 507, 'B-Continent': 501, 'I-Group': 472, 'I-Sports': 466, 'I-Police': 464, 'I-Hardware': 456, 'I-State-or-Province': 435, 'B-Educational': 428, 'B-Media': 415, 'B-Land-Region-Natural': 403, 'B-Software': 402, 'B-Sports': 398, 'B-Businessperson': 374, 'I-Land-Region-Natural': 344, 'I-Path': 336, 'I-Businessperson': 324, 'B-Book': 314, 'B-Hardware': 287, 'B-Path': 273, 'I-Water': 262, 'B-GPE-Cluster': 259, 'I-GPE-Cluster': 256, 'I-Movie': 230, 'B-Movie': 195, 'I-Celestial': 181, 'B-County-or-District': 176, 'I-Sound': 170, 'B-Water': 147, 'I-County-or-District': 113, 'B-Sound': 103, 'I-Airport': 103, 'I-Medical-Science': 99, 'I-Religious_ORG': 99, 'I-Engineer': 97, 'B-Engineer': 96, 'I-Projectile': 94, 'I-Subarea-Facility': 79, 'B-Drug': 73, 'B-Projectile': 72, 'B-Food': 71, 'I-Entertainment': 71, 'B-Airport': 64, 'I-Continent': 63, 'B-Religious_ORG': 59, 'B-Subarea-Facility': 59, 'B-Land': 58, 'B-Entertainment': 56, 'B-Medical-Science': 54, 'I-Plant': 51, 'I-Food': 44, 'B-Lawyer': 41, 'I-Land': 40, 'I-Lawyer': 38, 'I-Nuclear': 34, 'B-Blunt': 31, 'B-Plant': 26, 'B-Shooting': 25, 'I-Shooting': 25, 'B-Nuclear': 23, 'I-Exploding': 23, 'I-Blunt': 9, 'I-Drug': 9, 'B-Exploding': 7, 'B-Sharp': 5, 'B-Chemical': 4, 'I-Chemical': 2})\n",
            "Counter({'O': 42314, 'B-Nation': 551, 'B-Population-Center': 509, 'I-Politician': 358, 'B-Group': 291, 'B-Politician': 282, 'I-Religious_PER': 205, 'I-Artist': 169, 'B-Water-Body': 158, 'B-State-or-Province': 155, 'B-Artist': 151, 'B-Other_PER': 147, 'I-Scientist': 136, 'I-Non-Governmental': 134, 'I-Water-Body': 123, 'I-Building-Grounds': 115, 'B-Scientist': 111, 'I-Other_PER': 109, 'I-Population-Center': 108, 'B-Celestial': 104, 'I-Nation': 103, 'I-Book': 103, 'I-Commercial': 100, 'B-Building-Grounds': 96, 'B-Non-Governmental': 93, 'I-Government': 92, 'I-Athlete': 86, 'B-Police': 84, 'I-Police': 84, 'B-Commercial': 83, 'I-Educational': 78, 'B-Religious_PER': 74, 'I-Media': 73, 'B-Government': 72, 'I-Air': 68, 'I-Sports': 66, 'B-Athlete': 64, 'I-Group': 63, 'I-Software': 62, 'B-Media': 60, 'I-Land-Region-Natural': 60, 'I-Path': 60, 'B-Air': 58, 'B-Land-Region-Natural': 56, 'B-Sports': 51, 'B-Software': 51, 'I-State-or-Province': 48, 'B-Continent': 48, 'B-Educational': 46, 'B-Book': 41, 'B-Path': 39, 'B-Businessperson': 33, 'I-Celestial': 32, 'I-GPE-Cluster': 27, 'B-GPE-Cluster': 24, 'I-Businessperson': 24, 'I-Hardware': 23, 'B-County-or-District': 21, 'I-Engineer': 20, 'I-Water': 19, 'B-Engineer': 19, 'B-Hardware': 17, 'B-Water': 14, 'I-Sound': 14, 'I-Projectile': 14, 'I-Airport': 12, 'B-Drug': 12, 'B-Food': 12, 'I-County-or-District': 9, 'B-Movie': 8, 'B-Sound': 8, 'B-Projectile': 8, 'I-Nuclear': 8, 'I-Medical-Science': 8, 'I-Entertainment': 8, 'I-Continent': 7, 'B-Medical-Science': 7, 'B-Land': 7, 'I-Subarea-Facility': 6, 'I-Plant': 6, 'B-Nuclear': 6, 'B-Shooting': 6, 'I-Land': 6, 'B-Subarea-Facility': 5, 'B-Airport': 5, 'B-Lawyer': 5, 'I-Lawyer': 5, 'B-Plant': 4, 'I-Movie': 4, 'B-Entertainment': 4, 'I-Shooting': 4, 'B-Religious_ORG': 3, 'I-Religious_ORG': 3, 'I-Drug': 3, 'B-Blunt': 2, 'I-Food': 2})\n"
          ],
          "name": "stdout"
        }
      ]
    },
    {
      "cell_type": "markdown",
      "metadata": {
        "id": "N9At1fRxaaFa"
      },
      "source": [
        "Here we get a histogram of number of tokens in each sentence, to choose  a suitiable size for BERT MAX_LEN"
      ]
    },
    {
      "cell_type": "code",
      "metadata": {
        "colab": {
          "base_uri": "https://localhost:8080/",
          "height": 581
        },
        "id": "jqqERV0Dd9ep",
        "outputId": "0323f468-4e7b-47fc-9ef5-a97ad9888c6c"
      },
      "source": [
        "print(\"Training Sentence Lengths: \")\n",
        "plt.hist([ len(sentence[0]) for sentence in train_data],bins=range(0,256,2))\n",
        "plt.show()\n",
        "print(sum([len(sentence[0]) > 256 for sentence in train_data]))\n",
        "\n",
        "print(\"Testing Sentence Lengths: \")\n",
        "plt.hist([ len(sentence[0]) for sentence in test_data],bins=range(0,256,2))\n",
        "plt.show()\n",
        "print(sum([len(sentence[0]) > 256 for sentence in test_data]))"
      ],
      "execution_count": null,
      "outputs": [
        {
          "output_type": "stream",
          "text": [
            "Training Sentence Lengths: \n"
          ],
          "name": "stdout"
        },
        {
          "output_type": "display_data",
          "data": {
            "image/png": "[encoded data removed]",
            "text/plain": [
              "<Figure size 432x288 with 1 Axes>"
            ]
          },
          "metadata": {
            "tags": [],
            "needs_background": "light"
          }
        },
        {
          "output_type": "stream",
          "text": [
            "6\n",
            "Testing Sentence Lengths: \n"
          ],
          "name": "stdout"
        },
        {
          "output_type": "display_data",
          "data": {
            "image/png": "[encoded data removed]",
            "text/plain": [
              "<Figure size 432x288 with 1 Axes>"
            ]
          },
          "metadata": {
            "tags": [],
            "needs_background": "light"
          }
        },
        {
          "output_type": "stream",
          "text": [
            "0\n"
          ],
          "name": "stdout"
        }
      ]
    },
    {
      "cell_type": "markdown",
      "metadata": {
        "id": "bmGGv2yNyvCj"
      },
      "source": [
        "## Training\n"
      ]
    },
    {
      "cell_type": "markdown",
      "metadata": {
        "id": "5qVNRCj4wg1a"
      },
      "source": [
        "### Model Config\n",
        "\n",
        "Here, we define some constants to use "
      ]
    },
    {
      "cell_type": "code",
      "metadata": {
        "id": "ZCkpPVJOyuQZ",
        "colab": {
          "base_uri": "https://localhost:8080/",
          "height": 262,
          "referenced_widgets": [
            "ab29b7ce2480467cae31b85686b92c77",
            "ac6cc686315a4bdcb4ac52cf3ee6b258",
            "d87ab934637d4d22a70053580aa4990f",
            "ecc46c029ee040c98669c36462d3ae0a",
            "1cf46b664995433d8e96592cbce00d02",
            "64358aa4bb0148aebbf5694fdeb3671c",
            "fcd73d36bdc04d5c917f511346431bfd",
            "431c0d5a53064134a63dac5ec637d585",
            "5d52da912e414b7d8886287b16118bfa",
            "d3cde8eff2104f42a165a42314192f12",
            "f161e8bf2b434eae90d7e67ae710636a",
            "09a1d00f173b4b39a8a1448d69e39d8e",
            "5e6b5f75e1dd4aa98059778e65ee6a86",
            "61df8a4583eb44f3b9058f512da20ed3",
            "f914fffa6da4493fb1cd0c750fd942de",
            "4d98b7618b1e4658a998b7335bd4fbda",
            "2162aea2cc81414c9627c2a852bf1a99",
            "0089a312e017420ca249e08aecbfeb27",
            "b3d63507a1bf4189b98730616da8c706",
            "f8a6e140ac9449b7a40a3b0b3757289d",
            "1038003f309e47f4b09c1c44ed797e63",
            "71fb9bdf0c0645b9a904ee7f204c438e",
            "e035b12ddf854e7bbf0ed42e45ea1d55",
            "f46c3e9151f4436ea26124da245e7af5",
            "e803b1bb1f654f3da62546c7e97b525f",
            "8a5c1d6d22b94cdda931b1d15b8c28a9",
            "cde88eee871a4f44bc64276aebbab06b",
            "c64dff6656ab45da940b5ad427bb2da6",
            "922f9119198d4741bf20b440bcfdd78c",
            "ea68c9403fe64a07bf5c33cbd18cb569",
            "77195c4e3df846a08ed450732c374c19",
            "d650154757bd4b8c8b34e96667f960cb",
            "6802814fa2d14c38b2c3099f9e7caf65",
            "69ec91150b1e40f0aea309fb794be714",
            "544a15dacbcc4362a2830454fc80b8f3",
            "d6626a334e554d3f969cd24e858984a6",
            "7036ed410fa4412aae4bbd4551fd30a2",
            "d1a08ca83c66410096c5eb22a6044290",
            "59bb9f5718644811a2333c0e8f2b209b",
            "838ea476be7940f8aedc30ba1ee6de8b"
          ]
        },
        "outputId": "a6e57a6a-158f-4b93-93c1-4406bcc9c789"
      },
      "source": [
        "DATASET_NAME = 'Fine_GRATED'\n",
        "MODEL_NAME = 'aubmindlab/bert-base-arabertv02'\n",
        "TASK_NAME = 'tokenclassification'\n",
        "\n",
        "#######  TODO: Make it 256 again\n",
        "MAX_LEN = 256\n",
        "TRAIN_BATCH_SIZE = 16\n",
        "VALID_BATCH_SIZE = 16\n",
        "TEST_BATCH_SIZE = 16\n",
        "EPOCHS = 10\n",
        "MODEL_PATH = \"model\"\n",
        "\n",
        "TOKENIZER = AutoTokenizer.from_pretrained(MODEL_NAME)"
      ],
      "execution_count": null,
      "outputs": [
        {
          "output_type": "display_data",
          "data": {
            "application/vnd.jupyter.widget-view+json": {
              "model_id": "ab29b7ce2480467cae31b85686b92c77",
              "version_minor": 0,
              "version_major": 2
            },
            "text/plain": [
              "HBox(children=(FloatProgress(value=0.0, description='Downloading', max=381.0, style=ProgressStyle(description_…"
            ]
          },
          "metadata": {
            "tags": []
          }
        },
        {
          "output_type": "stream",
          "text": [
            "\n"
          ],
          "name": "stdout"
        },
        {
          "output_type": "display_data",
          "data": {
            "application/vnd.jupyter.widget-view+json": {
              "model_id": "5d52da912e414b7d8886287b16118bfa",
              "version_minor": 0,
              "version_major": 2
            },
            "text/plain": [
              "HBox(children=(FloatProgress(value=0.0, description='Downloading', max=384.0, style=ProgressStyle(description_…"
            ]
          },
          "metadata": {
            "tags": []
          }
        },
        {
          "output_type": "stream",
          "text": [
            "\n"
          ],
          "name": "stdout"
        },
        {
          "output_type": "display_data",
          "data": {
            "application/vnd.jupyter.widget-view+json": {
              "model_id": "2162aea2cc81414c9627c2a852bf1a99",
              "version_minor": 0,
              "version_major": 2
            },
            "text/plain": [
              "HBox(children=(FloatProgress(value=0.0, description='Downloading', max=824793.0, style=ProgressStyle(descripti…"
            ]
          },
          "metadata": {
            "tags": []
          }
        },
        {
          "output_type": "stream",
          "text": [
            "\n"
          ],
          "name": "stdout"
        },
        {
          "output_type": "display_data",
          "data": {
            "application/vnd.jupyter.widget-view+json": {
              "model_id": "e803b1bb1f654f3da62546c7e97b525f",
              "version_minor": 0,
              "version_major": 2
            },
            "text/plain": [
              "HBox(children=(FloatProgress(value=0.0, description='Downloading', max=2642362.0, style=ProgressStyle(descript…"
            ]
          },
          "metadata": {
            "tags": []
          }
        },
        {
          "output_type": "stream",
          "text": [
            "\n"
          ],
          "name": "stdout"
        },
        {
          "output_type": "display_data",
          "data": {
            "application/vnd.jupyter.widget-view+json": {
              "model_id": "6802814fa2d14c38b2c3099f9e7caf65",
              "version_minor": 0,
              "version_major": 2
            },
            "text/plain": [
              "HBox(children=(FloatProgress(value=0.0, description='Downloading', max=112.0, style=ProgressStyle(description_…"
            ]
          },
          "metadata": {
            "tags": []
          }
        },
        {
          "output_type": "stream",
          "text": [
            "\n"
          ],
          "name": "stdout"
        }
      ]
    },
    {
      "cell_type": "markdown",
      "metadata": {
        "id": "ffD7OI29wp5g"
      },
      "source": [
        "### Dataset\n",
        "\n",
        "\n",
        "Here we define the Dataset class, and how to process batches before training\n"
      ]
    },
    {
      "cell_type": "code",
      "metadata": {
        "id": "htos49v6hlzW"
      },
      "source": [
        "class NERDataset:\n",
        "  def __init__(self, texts, tags, label_list, model_name, max_length):\n",
        "    self.texts = texts\n",
        "    self.tags = tags\n",
        "    self.label_map = {label: i for i, label in enumerate(label_list)}\n",
        "    self.preprocessor = ArabertPreprocessor(model_name.split(\"/\")[-1])    \n",
        "    self.pad_token_label_id = torch.nn.CrossEntropyLoss().ignore_index\n",
        "    # Use cross entropy ignore_index as padding label id so that only\n",
        "    # real label ids contribute to the loss later.\n",
        "    self.tokenizer = AutoTokenizer.from_pretrained(model_name)\n",
        "    self.max_length = max_length\n",
        "\n",
        "     \n",
        "  def __len__(self):\n",
        "    return len(self.texts)\n",
        "  \n",
        "  def __getitem__(self, item):\n",
        "    textlist = self.texts[item]\n",
        "    tags = self.tags[item]\n",
        "\n",
        "    tokens = []\n",
        "    label_ids = []\n",
        "    for word, label in zip(textlist, tags):      \n",
        "      clean_word = self.preprocessor.preprocess(word)  \n",
        "      word_tokens = self.tokenizer.tokenize(clean_word)\n",
        "\n",
        "  \n",
        "      if len(word_tokens) > 0:\n",
        "        tokens.extend(word_tokens)    \n",
        "        # Use the real label id for the first token of the word, and padding ids for the remaining tokens\n",
        "        label_ids.extend([self.label_map[label]] + [self.pad_token_label_id] * (len(word_tokens) - 1))\n",
        " \n",
        "    # Account for [CLS] and [SEP] with \"- 2\" and with \"- 3\" for RoBERTa.\n",
        "    special_tokens_count = self.tokenizer.num_special_tokens_to_add()\n",
        "    if len(tokens) > self.max_length - special_tokens_count:\n",
        "      tokens = tokens[: (self.max_length - special_tokens_count)]\n",
        "      label_ids = label_ids[: (self.max_length - special_tokens_count)]\n",
        "  \n",
        "    #Add the [SEP] token\n",
        "    tokens += [self.tokenizer.sep_token]\n",
        "    label_ids += [self.pad_token_label_id]\n",
        "    token_type_ids = [0] * len(tokens)\n",
        "\n",
        "    #Add the [CLS] TOKEN\n",
        "    tokens = [self.tokenizer.cls_token] + tokens\n",
        "    label_ids = [self.pad_token_label_id] + label_ids\n",
        "    token_type_ids = [0] + token_type_ids\n",
        "\n",
        "    input_ids = self.tokenizer.convert_tokens_to_ids(tokens)\n",
        "\n",
        "    # The mask has 1 for real tokens and 0 for padding tokens. Only real\n",
        "    # tokens are attended to.\n",
        "    attention_mask = [1] * len(input_ids)\n",
        "\n",
        "    # ana we ant {pad}\n",
        "    # 1    1  1   0  0\n",
        "    # [cls] B-loc O O B-loc [sep] [pad]\n",
        "    #  -100    2   0  0      -100 \n",
        "\n",
        "    # Zero-pad up to the sequence length.\n",
        "    padding_length = self.max_length - len(input_ids)\n",
        "\n",
        "    input_ids += [self.tokenizer.pad_token_id] * padding_length\n",
        "    attention_mask += [0] * padding_length\n",
        "    token_type_ids += [0] * padding_length\n",
        "    label_ids += [self.pad_token_label_id] * padding_length\n",
        "\n",
        "    assert len(input_ids) == self.max_length\n",
        "    assert len(attention_mask) == self.max_length\n",
        "    assert len(token_type_ids) == self.max_length\n",
        "    assert len(label_ids) == self.max_length\n",
        "\n",
        "    # if item < 5:\n",
        "    #   print(\"*** Example ***\")\n",
        "    #   print(\"tokens:\", \" \".join([str(x) for x in tokens]))\n",
        "    #   print(\"input_ids:\", \" \".join([str(x) for x in input_ids]))\n",
        "    #   print(\"attention_mask:\", \" \".join([str(x) for x in attention_mask]))\n",
        "    #   print(\"token_type_ids:\", \" \".join([str(x) for x in token_type_ids]))\n",
        "    #   print(\"label_ids:\", \" \".join([str(x) for x in label_ids]))\n",
        "    \n",
        "    return {\n",
        "        'input_ids' : torch.tensor(input_ids, dtype=torch.long),\n",
        "        'attention_mask' : torch.tensor(attention_mask, dtype=torch.long),\n",
        "        'token_type_ids' : torch.tensor(token_type_ids, dtype=torch.long),\n",
        "        'labels' : torch.tensor(label_ids, dtype=torch.long)       \n",
        "    }"
      ],
      "execution_count": null,
      "outputs": []
    },
    {
      "cell_type": "markdown",
      "metadata": {
        "id": "z6MC0SRIb-Pr"
      },
      "source": [
        "Here we create The datasets for train,val, and test"
      ]
    },
    {
      "cell_type": "code",
      "metadata": {
        "id": "HGBV47Nz1HwU"
      },
      "source": [
        "\n",
        "\n",
        "train_dataset = NERDataset(\n",
        "    texts=[x[0] for x in train_data],\n",
        "    tags=[x[1] for x in train_data],\n",
        "    label_list=label_list,\n",
        "    model_name=MODEL_NAME,\n",
        "    max_length=MAX_LEN\n",
        "    )\n",
        "\n",
        "test_dataset = NERDataset(\n",
        "    texts=[x[0] for x in test_data],\n",
        "    tags=[x[1] for x in test_data],\n",
        "    label_list=label_list,\n",
        "    model_name=MODEL_NAME,\n",
        "    max_length=MAX_LEN\n",
        "    )\n",
        "\n",
        "eval_dataset = NERDataset(\n",
        "    texts=[x[0] for x in eval_data],\n",
        "    tags=[x[1] for x in eval_data],\n",
        "    label_list=label_list,\n",
        "    model_name=MODEL_NAME,\n",
        "    max_length=MAX_LEN\n",
        "    )"
      ],
      "execution_count": null,
      "outputs": []
    },
    {
      "cell_type": "markdown",
      "metadata": {
        "id": "7J4XmsTRw4HF"
      },
      "source": [
        "### Model init and Data Loaders \n",
        "\n",
        "Here we initalize the model as a Brt model for token classification"
      ]
    },
    {
      "cell_type": "code",
      "metadata": {
        "id": "yNRpiuLQFNIU"
      },
      "source": [
        "\n",
        "def model_init():\n",
        "    return BertForTokenClassification.from_pretrained(MODEL_NAME,\n",
        "                                                      return_dict=True,\n",
        "                                                      num_labels=len(label_map),output_attentions = False,\n",
        "                                                      output_hidden_states = False)\n",
        "\n",
        "\n",
        "\n"
      ],
      "execution_count": null,
      "outputs": []
    },
    {
      "cell_type": "code",
      "metadata": {
        "colab": {
          "base_uri": "https://localhost:8080/",
          "height": 171,
          "referenced_widgets": [
            "2d35bb6ffb7d429b936d244e9e53105f",
            "57b852fc2f28494a95de924faeb1b6d7",
            "a4d2fc663e12422b873fa58e1bd435c8",
            "7aa1d319a2644a3dab7e30e5aac56745",
            "83603d41867f43d397222adfbbcb5aca",
            "665294bfb1dc4df589575e949624ed89",
            "206d97a3ece446db99e540b4087a3f92",
            "cb825fc7c00040be850b37f75bb1d4a2"
          ]
        },
        "id": "XdWKbbci6lro",
        "outputId": "f9c26ce6-c918-48f4-aac5-a80031074669"
      },
      "source": [
        "my_model = model_init()"
      ],
      "execution_count": null,
      "outputs": [
        {
          "output_type": "display_data",
          "data": {
            "application/vnd.jupyter.widget-view+json": {
              "model_id": "2d35bb6ffb7d429b936d244e9e53105f",
              "version_minor": 0,
              "version_major": 2
            },
            "text/plain": [
              "HBox(children=(FloatProgress(value=0.0, description='Downloading', max=543490667.0, style=ProgressStyle(descri…"
            ]
          },
          "metadata": {
            "tags": []
          }
        },
        {
          "output_type": "stream",
          "text": [
            "\n"
          ],
          "name": "stdout"
        },
        {
          "output_type": "stream",
          "text": [
            "Some weights of the model checkpoint at aubmindlab/bert-base-arabertv02 were not used when initializing BertForTokenClassification: ['cls.predictions.transform.LayerNorm.bias', 'cls.predictions.transform.LayerNorm.weight', 'cls.predictions.transform.dense.bias', 'cls.seq_relationship.bias', 'cls.seq_relationship.weight', 'cls.predictions.decoder.weight', 'cls.predictions.bias', 'cls.predictions.decoder.bias', 'cls.predictions.transform.dense.weight']\n",
            "- This IS expected if you are initializing BertForTokenClassification from the checkpoint of a model trained on another task or with another architecture (e.g. initializing a BertForSequenceClassification model from a BertForPreTraining model).\n",
            "- This IS NOT expected if you are initializing BertForTokenClassification from the checkpoint of a model that you expect to be exactly identical (initializing a BertForSequenceClassification model from a BertForSequenceClassification model).\n",
            "Some weights of BertForTokenClassification were not initialized from the model checkpoint at aubmindlab/bert-base-arabertv02 and are newly initialized: ['classifier.weight', 'classifier.bias']\n",
            "You should probably TRAIN this model on a down-stream task to be able to use it for predictions and inference.\n"
          ],
          "name": "stderr"
        }
      ]
    },
    {
      "cell_type": "code",
      "metadata": {
        "id": "fs-4YX3e6rN1",
        "colab": {
          "base_uri": "https://localhost:8080/"
        },
        "outputId": "271cc34d-9b86-410b-9bb0-8bf0134aed97"
      },
      "source": [
        "print(my_model)"
      ],
      "execution_count": null,
      "outputs": [
        {
          "output_type": "stream",
          "text": [
            "BertForTokenClassification(\n",
            "  (bert): BertModel(\n",
            "    (embeddings): BertEmbeddings(\n",
            "      (word_embeddings): Embedding(64000, 768, padding_idx=0)\n",
            "      (position_embeddings): Embedding(512, 768)\n",
            "      (token_type_embeddings): Embedding(2, 768)\n",
            "      (LayerNorm): LayerNorm((768,), eps=1e-12, elementwise_affine=True)\n",
            "      (dropout): Dropout(p=0.1, inplace=False)\n",
            "    )\n",
            "    (encoder): BertEncoder(\n",
            "      (layer): ModuleList(\n",
            "        (0): BertLayer(\n",
            "          (attention): BertAttention(\n",
            "            (self): BertSelfAttention(\n",
            "              (query): Linear(in_features=768, out_features=768, bias=True)\n",
            "              (key): Linear(in_features=768, out_features=768, bias=True)\n",
            "              (value): Linear(in_features=768, out_features=768, bias=True)\n",
            "              (dropout): Dropout(p=0.1, inplace=False)\n",
            "            )\n",
            "            (output): BertSelfOutput(\n",
            "              (dense): Linear(in_features=768, out_features=768, bias=True)\n",
            "              (LayerNorm): LayerNorm((768,), eps=1e-12, elementwise_affine=True)\n",
            "              (dropout): Dropout(p=0.1, inplace=False)\n",
            "            )\n",
            "          )\n",
            "          (intermediate): BertIntermediate(\n",
            "            (dense): Linear(in_features=768, out_features=3072, bias=True)\n",
            "          )\n",
            "          (output): BertOutput(\n",
            "            (dense): Linear(in_features=3072, out_features=768, bias=True)\n",
            "            (LayerNorm): LayerNorm((768,), eps=1e-12, elementwise_affine=True)\n",
            "            (dropout): Dropout(p=0.1, inplace=False)\n",
            "          )\n",
            "        )\n",
            "        (1): BertLayer(\n",
            "          (attention): BertAttention(\n",
            "            (self): BertSelfAttention(\n",
            "              (query): Linear(in_features=768, out_features=768, bias=True)\n",
            "              (key): Linear(in_features=768, out_features=768, bias=True)\n",
            "              (value): Linear(in_features=768, out_features=768, bias=True)\n",
            "              (dropout): Dropout(p=0.1, inplace=False)\n",
            "            )\n",
            "            (output): BertSelfOutput(\n",
            "              (dense): Linear(in_features=768, out_features=768, bias=True)\n",
            "              (LayerNorm): LayerNorm((768,), eps=1e-12, elementwise_affine=True)\n",
            "              (dropout): Dropout(p=0.1, inplace=False)\n",
            "            )\n",
            "          )\n",
            "          (intermediate): BertIntermediate(\n",
            "            (dense): Linear(in_features=768, out_features=3072, bias=True)\n",
            "          )\n",
            "          (output): BertOutput(\n",
            "            (dense): Linear(in_features=3072, out_features=768, bias=True)\n",
            "            (LayerNorm): LayerNorm((768,), eps=1e-12, elementwise_affine=True)\n",
            "            (dropout): Dropout(p=0.1, inplace=False)\n",
            "          )\n",
            "        )\n",
            "        (2): BertLayer(\n",
            "          (attention): BertAttention(\n",
            "            (self): BertSelfAttention(\n",
            "              (query): Linear(in_features=768, out_features=768, bias=True)\n",
            "              (key): Linear(in_features=768, out_features=768, bias=True)\n",
            "              (value): Linear(in_features=768, out_features=768, bias=True)\n",
            "              (dropout): Dropout(p=0.1, inplace=False)\n",
            "            )\n",
            "            (output): BertSelfOutput(\n",
            "              (dense): Linear(in_features=768, out_features=768, bias=True)\n",
            "              (LayerNorm): LayerNorm((768,), eps=1e-12, elementwise_affine=True)\n",
            "              (dropout): Dropout(p=0.1, inplace=False)\n",
            "            )\n",
            "          )\n",
            "          (intermediate): BertIntermediate(\n",
            "            (dense): Linear(in_features=768, out_features=3072, bias=True)\n",
            "          )\n",
            "          (output): BertOutput(\n",
            "            (dense): Linear(in_features=3072, out_features=768, bias=True)\n",
            "            (LayerNorm): LayerNorm((768,), eps=1e-12, elementwise_affine=True)\n",
            "            (dropout): Dropout(p=0.1, inplace=False)\n",
            "          )\n",
            "        )\n",
            "        (3): BertLayer(\n",
            "          (attention): BertAttention(\n",
            "            (self): BertSelfAttention(\n",
            "              (query): Linear(in_features=768, out_features=768, bias=True)\n",
            "              (key): Linear(in_features=768, out_features=768, bias=True)\n",
            "              (value): Linear(in_features=768, out_features=768, bias=True)\n",
            "              (dropout): Dropout(p=0.1, inplace=False)\n",
            "            )\n",
            "            (output): BertSelfOutput(\n",
            "              (dense): Linear(in_features=768, out_features=768, bias=True)\n",
            "              (LayerNorm): LayerNorm((768,), eps=1e-12, elementwise_affine=True)\n",
            "              (dropout): Dropout(p=0.1, inplace=False)\n",
            "            )\n",
            "          )\n",
            "          (intermediate): BertIntermediate(\n",
            "            (dense): Linear(in_features=768, out_features=3072, bias=True)\n",
            "          )\n",
            "          (output): BertOutput(\n",
            "            (dense): Linear(in_features=3072, out_features=768, bias=True)\n",
            "            (LayerNorm): LayerNorm((768,), eps=1e-12, elementwise_affine=True)\n",
            "            (dropout): Dropout(p=0.1, inplace=False)\n",
            "          )\n",
            "        )\n",
            "        (4): BertLayer(\n",
            "          (attention): BertAttention(\n",
            "            (self): BertSelfAttention(\n",
            "              (query): Linear(in_features=768, out_features=768, bias=True)\n",
            "              (key): Linear(in_features=768, out_features=768, bias=True)\n",
            "              (value): Linear(in_features=768, out_features=768, bias=True)\n",
            "              (dropout): Dropout(p=0.1, inplace=False)\n",
            "            )\n",
            "            (output): BertSelfOutput(\n",
            "              (dense): Linear(in_features=768, out_features=768, bias=True)\n",
            "              (LayerNorm): LayerNorm((768,), eps=1e-12, elementwise_affine=True)\n",
            "              (dropout): Dropout(p=0.1, inplace=False)\n",
            "            )\n",
            "          )\n",
            "          (intermediate): BertIntermediate(\n",
            "            (dense): Linear(in_features=768, out_features=3072, bias=True)\n",
            "          )\n",
            "          (output): BertOutput(\n",
            "            (dense): Linear(in_features=3072, out_features=768, bias=True)\n",
            "            (LayerNorm): LayerNorm((768,), eps=1e-12, elementwise_affine=True)\n",
            "            (dropout): Dropout(p=0.1, inplace=False)\n",
            "          )\n",
            "        )\n",
            "        (5): BertLayer(\n",
            "          (attention): BertAttention(\n",
            "            (self): BertSelfAttention(\n",
            "              (query): Linear(in_features=768, out_features=768, bias=True)\n",
            "              (key): Linear(in_features=768, out_features=768, bias=True)\n",
            "              (value): Linear(in_features=768, out_features=768, bias=True)\n",
            "              (dropout): Dropout(p=0.1, inplace=False)\n",
            "            )\n",
            "            (output): BertSelfOutput(\n",
            "              (dense): Linear(in_features=768, out_features=768, bias=True)\n",
            "              (LayerNorm): LayerNorm((768,), eps=1e-12, elementwise_affine=True)\n",
            "              (dropout): Dropout(p=0.1, inplace=False)\n",
            "            )\n",
            "          )\n",
            "          (intermediate): BertIntermediate(\n",
            "            (dense): Linear(in_features=768, out_features=3072, bias=True)\n",
            "          )\n",
            "          (output): BertOutput(\n",
            "            (dense): Linear(in_features=3072, out_features=768, bias=True)\n",
            "            (LayerNorm): LayerNorm((768,), eps=1e-12, elementwise_affine=True)\n",
            "            (dropout): Dropout(p=0.1, inplace=False)\n",
            "          )\n",
            "        )\n",
            "        (6): BertLayer(\n",
            "          (attention): BertAttention(\n",
            "            (self): BertSelfAttention(\n",
            "              (query): Linear(in_features=768, out_features=768, bias=True)\n",
            "              (key): Linear(in_features=768, out_features=768, bias=True)\n",
            "              (value): Linear(in_features=768, out_features=768, bias=True)\n",
            "              (dropout): Dropout(p=0.1, inplace=False)\n",
            "            )\n",
            "            (output): BertSelfOutput(\n",
            "              (dense): Linear(in_features=768, out_features=768, bias=True)\n",
            "              (LayerNorm): LayerNorm((768,), eps=1e-12, elementwise_affine=True)\n",
            "              (dropout): Dropout(p=0.1, inplace=False)\n",
            "            )\n",
            "          )\n",
            "          (intermediate): BertIntermediate(\n",
            "            (dense): Linear(in_features=768, out_features=3072, bias=True)\n",
            "          )\n",
            "          (output): BertOutput(\n",
            "            (dense): Linear(in_features=3072, out_features=768, bias=True)\n",
            "            (LayerNorm): LayerNorm((768,), eps=1e-12, elementwise_affine=True)\n",
            "            (dropout): Dropout(p=0.1, inplace=False)\n",
            "          )\n",
            "        )\n",
            "        (7): BertLayer(\n",
            "          (attention): BertAttention(\n",
            "            (self): BertSelfAttention(\n",
            "              (query): Linear(in_features=768, out_features=768, bias=True)\n",
            "              (key): Linear(in_features=768, out_features=768, bias=True)\n",
            "              (value): Linear(in_features=768, out_features=768, bias=True)\n",
            "              (dropout): Dropout(p=0.1, inplace=False)\n",
            "            )\n",
            "            (output): BertSelfOutput(\n",
            "              (dense): Linear(in_features=768, out_features=768, bias=True)\n",
            "              (LayerNorm): LayerNorm((768,), eps=1e-12, elementwise_affine=True)\n",
            "              (dropout): Dropout(p=0.1, inplace=False)\n",
            "            )\n",
            "          )\n",
            "          (intermediate): BertIntermediate(\n",
            "            (dense): Linear(in_features=768, out_features=3072, bias=True)\n",
            "          )\n",
            "          (output): BertOutput(\n",
            "            (dense): Linear(in_features=3072, out_features=768, bias=True)\n",
            "            (LayerNorm): LayerNorm((768,), eps=1e-12, elementwise_affine=True)\n",
            "            (dropout): Dropout(p=0.1, inplace=False)\n",
            "          )\n",
            "        )\n",
            "        (8): BertLayer(\n",
            "          (attention): BertAttention(\n",
            "            (self): BertSelfAttention(\n",
            "              (query): Linear(in_features=768, out_features=768, bias=True)\n",
            "              (key): Linear(in_features=768, out_features=768, bias=True)\n",
            "              (value): Linear(in_features=768, out_features=768, bias=True)\n",
            "              (dropout): Dropout(p=0.1, inplace=False)\n",
            "            )\n",
            "            (output): BertSelfOutput(\n",
            "              (dense): Linear(in_features=768, out_features=768, bias=True)\n",
            "              (LayerNorm): LayerNorm((768,), eps=1e-12, elementwise_affine=True)\n",
            "              (dropout): Dropout(p=0.1, inplace=False)\n",
            "            )\n",
            "          )\n",
            "          (intermediate): BertIntermediate(\n",
            "            (dense): Linear(in_features=768, out_features=3072, bias=True)\n",
            "          )\n",
            "          (output): BertOutput(\n",
            "            (dense): Linear(in_features=3072, out_features=768, bias=True)\n",
            "            (LayerNorm): LayerNorm((768,), eps=1e-12, elementwise_affine=True)\n",
            "            (dropout): Dropout(p=0.1, inplace=False)\n",
            "          )\n",
            "        )\n",
            "        (9): BertLayer(\n",
            "          (attention): BertAttention(\n",
            "            (self): BertSelfAttention(\n",
            "              (query): Linear(in_features=768, out_features=768, bias=True)\n",
            "              (key): Linear(in_features=768, out_features=768, bias=True)\n",
            "              (value): Linear(in_features=768, out_features=768, bias=True)\n",
            "              (dropout): Dropout(p=0.1, inplace=False)\n",
            "            )\n",
            "            (output): BertSelfOutput(\n",
            "              (dense): Linear(in_features=768, out_features=768, bias=True)\n",
            "              (LayerNorm): LayerNorm((768,), eps=1e-12, elementwise_affine=True)\n",
            "              (dropout): Dropout(p=0.1, inplace=False)\n",
            "            )\n",
            "          )\n",
            "          (intermediate): BertIntermediate(\n",
            "            (dense): Linear(in_features=768, out_features=3072, bias=True)\n",
            "          )\n",
            "          (output): BertOutput(\n",
            "            (dense): Linear(in_features=3072, out_features=768, bias=True)\n",
            "            (LayerNorm): LayerNorm((768,), eps=1e-12, elementwise_affine=True)\n",
            "            (dropout): Dropout(p=0.1, inplace=False)\n",
            "          )\n",
            "        )\n",
            "        (10): BertLayer(\n",
            "          (attention): BertAttention(\n",
            "            (self): BertSelfAttention(\n",
            "              (query): Linear(in_features=768, out_features=768, bias=True)\n",
            "              (key): Linear(in_features=768, out_features=768, bias=True)\n",
            "              (value): Linear(in_features=768, out_features=768, bias=True)\n",
            "              (dropout): Dropout(p=0.1, inplace=False)\n",
            "            )\n",
            "            (output): BertSelfOutput(\n",
            "              (dense): Linear(in_features=768, out_features=768, bias=True)\n",
            "              (LayerNorm): LayerNorm((768,), eps=1e-12, elementwise_affine=True)\n",
            "              (dropout): Dropout(p=0.1, inplace=False)\n",
            "            )\n",
            "          )\n",
            "          (intermediate): BertIntermediate(\n",
            "            (dense): Linear(in_features=768, out_features=3072, bias=True)\n",
            "          )\n",
            "          (output): BertOutput(\n",
            "            (dense): Linear(in_features=3072, out_features=768, bias=True)\n",
            "            (LayerNorm): LayerNorm((768,), eps=1e-12, elementwise_affine=True)\n",
            "            (dropout): Dropout(p=0.1, inplace=False)\n",
            "          )\n",
            "        )\n",
            "        (11): BertLayer(\n",
            "          (attention): BertAttention(\n",
            "            (self): BertSelfAttention(\n",
            "              (query): Linear(in_features=768, out_features=768, bias=True)\n",
            "              (key): Linear(in_features=768, out_features=768, bias=True)\n",
            "              (value): Linear(in_features=768, out_features=768, bias=True)\n",
            "              (dropout): Dropout(p=0.1, inplace=False)\n",
            "            )\n",
            "            (output): BertSelfOutput(\n",
            "              (dense): Linear(in_features=768, out_features=768, bias=True)\n",
            "              (LayerNorm): LayerNorm((768,), eps=1e-12, elementwise_affine=True)\n",
            "              (dropout): Dropout(p=0.1, inplace=False)\n",
            "            )\n",
            "          )\n",
            "          (intermediate): BertIntermediate(\n",
            "            (dense): Linear(in_features=768, out_features=3072, bias=True)\n",
            "          )\n",
            "          (output): BertOutput(\n",
            "            (dense): Linear(in_features=3072, out_features=768, bias=True)\n",
            "            (LayerNorm): LayerNorm((768,), eps=1e-12, elementwise_affine=True)\n",
            "            (dropout): Dropout(p=0.1, inplace=False)\n",
            "          )\n",
            "        )\n",
            "      )\n",
            "    )\n",
            "  )\n",
            "  (dropout): Dropout(p=0.1, inplace=False)\n",
            "  (classifier): Linear(in_features=768, out_features=102, bias=True)\n",
            ")\n"
          ],
          "name": "stdout"
        }
      ]
    },
    {
      "cell_type": "code",
      "metadata": {
        "id": "KwPHlLOwPGhy"
      },
      "source": [
        "train_data_loader = DataLoader(dataset=train_dataset,batch_size=TRAIN_BATCH_SIZE,shuffle= True)\n",
        "eval_data_loader = DataLoader(dataset=eval_dataset,batch_size=VALID_BATCH_SIZE,shuffle= True)\n",
        "test_data_loader = DataLoader(dataset=test_dataset,batch_size=TEST_BATCH_SIZE,shuffle= True)"
      ],
      "execution_count": null,
      "outputs": []
    },
    {
      "cell_type": "markdown",
      "metadata": {
        "id": "ll13A3prxJzV"
      },
      "source": [
        "### Train, Eval, Test Functions"
      ]
    },
    {
      "cell_type": "markdown",
      "metadata": {
        "id": "G_AeVh6DeJqa"
      },
      "source": [
        "#### Helper Funvtions"
      ]
    },
    {
      "cell_type": "code",
      "metadata": {
        "id": "-ux11kosx37u"
      },
      "source": [
        "\n",
        "def align_predictions(predictions, label_ids):\n",
        "    \"\"\"\n",
        "        Takes batch of senteces, and the logits for every word in every sentences \n",
        "        it will exclude the padding tokens \n",
        "        \n",
        "        predictions:  [ [ [logits] ] ]\n",
        "        label_ids: [[Sentence1], [Sentence2]]\n",
        "        \n",
        "        returns : predicition label list of shape (no_sentences, no_words_in_sentece)\n",
        "                  true label list of shape (no_sentences, no_words_in_sentece)\n",
        "                  \n",
        "                  output example: y_true = [['O', 'O', 'O', 'B-MISC', 'I-MISC', 'I-MISC', 'O'], ['B-PER', 'I-PER', 'O']]\n",
        "                                  y_pred = [['O', 'O', 'B-MISC', 'I-MISC', 'I-MISC', 'I-MISC', 'O'], ['B-PER', 'I-PER', 'O']]\n",
        "    \"\"\"\n",
        "   \n",
        "    preds = np.argmax(predictions, axis=2)\n",
        "    \n",
        "   \n",
        "\n",
        "    batch_size, seq_len = preds.shape\n",
        "\n",
        "    assert(preds.shape == label_ids.shape)\n",
        "    \n",
        "    out_label_list = [[] for _ in range(batch_size)]\n",
        "    preds_list = [[] for _ in range(batch_size)]\n",
        "\n",
        "    for i in range(batch_size):\n",
        "        for j in range(seq_len):\n",
        "            \n",
        "            if label_ids[i] [j] != torch.nn.CrossEntropyLoss().ignore_index:\n",
        "                \n",
        "                out_label_list[i].append(inv_label_map[label_ids[i][j]])\n",
        "                preds_list[i].append(inv_label_map[preds[i][j]])\n",
        "\n",
        "    return preds_list, out_label_list"
      ],
      "execution_count": null,
      "outputs": []
    },
    {
      "cell_type": "code",
      "metadata": {
        "id": "_JUuvw2g4JDg"
      },
      "source": [
        "def compute_metrics(predictions, labels , generate_report = False):\n",
        "    \n",
        "    preds_list, out_label_list = align_predictions(predictions,labels)\n",
        "    \n",
        "    \n",
        "    if generate_report:\n",
        "        try:         \n",
        "            print(classification_report(out_label_list, preds_list))\n",
        "        except:\n",
        "            print('There Was an error while generating the classification report!')\n",
        "            \n",
        "    return {\n",
        "        \"accuracy_score\": accuracy_score(out_label_list, preds_list),\n",
        "        \"precision\": precision_score(out_label_list, preds_list),\n",
        "        \"recall\": recall_score(out_label_list, preds_list),\n",
        "        \"f1\": f1_score(out_label_list, preds_list),\n",
        "    }\n"
      ],
      "execution_count": null,
      "outputs": []
    },
    {
      "cell_type": "markdown",
      "metadata": {
        "id": "jhOn1FP0dlQN"
      },
      "source": [
        "#### Train Function"
      ]
    },
    {
      "cell_type": "code",
      "metadata": {
        "id": "9bMFyymI2JyC"
      },
      "source": [
        "def train_epoch(train_dl, model, optimizer,scheduler,device):\n",
        "\n",
        "    ###########################################\n",
        "    #                                         #\n",
        "    #           TRAINING STARTS HERE          #\n",
        "    #                                         #\n",
        "    ###########################################\n",
        "\n",
        "    model.train()\n",
        "\n",
        "    final_loss = 0\n",
        "\n",
        "    i = 0\n",
        "\n",
        "    for data in tqdm(train_dl, total = len(train_dl)):\n",
        "\n",
        "        # BATCH\n",
        "\n",
        "        # Send Data to GPU\n",
        "        input_ids = data['input_ids'].to(device)\n",
        "        attention_mask = data['attention_mask'].to(device)\n",
        "        token_type_ids = data['token_type_ids'].to(device)\n",
        "        labels = data['labels'].to(device)\n",
        "\n",
        "\n",
        "        optimizer.zero_grad()\n",
        "\n",
        "\n",
        "\n",
        "        # we can also pass token_type_ids\n",
        "\n",
        "        outputs = model(input_ids = input_ids,\n",
        "                        token_type_ids=token_type_ids,\n",
        "                        attention_mask=attention_mask,\n",
        "                        labels=labels)\n",
        "\n",
        "        #### For watching training \n",
        "        # if i==2:\n",
        "        #     a= []\n",
        "        #     b = []\n",
        "        #     print(outputs.logits[5].shape)\n",
        "        #     print(labels[5].shape)\n",
        "        #     for word in outputs.logits[5]:\n",
        "        #         a.append(np.argmax(word.to('cpu').detach().numpy()))\n",
        "        #     for l in labels[5]:\n",
        "        #         b.append(l)\n",
        "        #     print(len(a), len(b))\n",
        "        #     print  ( ' CORRECT:  ',torch.sum(torch.tensor(a) == torch.tensor(b)) )\n",
        "        #     for aa,bb in zip(a,b):\n",
        "        #         print(f' predicted : {aa} ,   Label:  {bb}')\n",
        "\n",
        "        # i+=1\n",
        "\n",
        "        #print(outputs)\n",
        "\n",
        "        # TODO: Watchout forthis \n",
        "        loss = outputs.loss\n",
        "\n",
        "        loss.backward()\n",
        "\n",
        "        # Do we need it ? \n",
        "        nn.utils.clip_grad_norm_(model.parameters(), max_norm=1.0)\n",
        "\n",
        "        optimizer.step()\n",
        "        scheduler.step()\n",
        "\n",
        "        final_loss += loss.item()\n",
        "\n",
        "\n",
        "\n",
        "    print(final_loss)\n",
        "\n",
        "    return final_loss / len(train_dl)"
      ],
      "execution_count": null,
      "outputs": []
    },
    {
      "cell_type": "markdown",
      "metadata": {
        "id": "TZk2w6Bjdmhd"
      },
      "source": [
        "#### Validation Function"
      ]
    },
    {
      "cell_type": "code",
      "metadata": {
        "id": "hAA13r5cDiJr"
      },
      "source": [
        "def eval_epoch(eval_dl, model,device, generate_report = False):\n",
        "\n",
        "  ###########################################\n",
        "  #                                         #\n",
        "  #           EVALUATION STARTS HERE        #\n",
        "  #                                         #\n",
        "  ###########################################\n",
        "\n",
        "    model.eval()\n",
        "\n",
        "    final_loss = 0\n",
        "\n",
        "    # 3D array to store every sentence and its logits (2D array)\n",
        "    all_preds = []\n",
        "    \n",
        "    # 2D array to store every sentence and its labels\n",
        "    all_labels = []\n",
        "\n",
        "    for data in tqdm(eval_dl, total = len(eval_dl)):\n",
        "\n",
        "        # BATCH\n",
        "\n",
        "        # Send Data to GPU\n",
        "        input_ids = data['input_ids'].to(device)\n",
        "        attention_mask = data['attention_mask'].to(device)\n",
        "        token_type_ids = data['token_type_ids'].to(device)\n",
        "        labels = data['labels'].to(device)\n",
        "\n",
        "\n",
        "\n",
        "        outputs = model(input_ids = input_ids,\n",
        "                        token_type_ids=token_type_ids,\n",
        "                        attention_mask=attention_mask,\n",
        "                        labels=labels)\n",
        "\n",
        "        \n",
        "        loss = outputs[0]\n",
        "\n",
        "        final_loss += loss.item()\n",
        "        \n",
        "        logits = outputs.logits.detach().cpu().numpy()\n",
        "        labels = labels.to('cpu').numpy()\n",
        "        \n",
        "        \n",
        "        \n",
        "        \n",
        "        all_preds.extend(logits)\n",
        "        all_labels.extend(labels)\n",
        "      \n",
        "        \n",
        " \n",
        "    all_preds = np.array(all_preds)\n",
        "    all_labels = np.asarray(all_labels)\n",
        "    \n",
        "   \n",
        "   \n",
        "    # this will first clean the data from the padding tokens, then will calcuate the metrics\n",
        "    metrics = compute_metrics(all_preds, all_labels, generate_report)\n",
        "    \n",
        "\n",
        "    final_loss = final_loss / len(eval_dl)\n",
        "\n",
        "\n",
        "    \n",
        "    return final_loss, metrics"
      ],
      "execution_count": null,
      "outputs": []
    },
    {
      "cell_type": "markdown",
      "metadata": {
        "id": "PsQxjGC5dqb8"
      },
      "source": [
        "#### Test Function"
      ]
    },
    {
      "cell_type": "code",
      "metadata": {
        "id": "U2K4mVzK8h-x"
      },
      "source": [
        "def model_test(test_dl,model,device):\n",
        "\n",
        "    ###########################################\n",
        "    #                                         #\n",
        "    #           TEST STARTS HERE              #\n",
        "    #                                         #\n",
        "    ###########################################\n",
        "    with torch.no_grad():\n",
        "        model.to(device)\n",
        "        model.eval()\n",
        "        final_loss = 0\n",
        "        all_predictions = []\n",
        "        all_labels = []\n",
        "        for data in tqdm(test_dl, total = len(test_dl)):\n",
        "\n",
        "            input_ids = data['input_ids'].to(device)\n",
        "            attention_mask = data['attention_mask'].to(device)\n",
        "            token_type_ids = data['token_type_ids'].to(device)\n",
        "            labels = data['labels'].to(device)\n",
        "\n",
        "\n",
        "\n",
        "            outputs = model(input_ids = input_ids,\n",
        "                            token_type_ids=token_type_ids,\n",
        "                            attention_mask=attention_mask,\n",
        "                            labels=labels)\n",
        "            \n",
        "            \n",
        "            loss = outputs.loss\n",
        "\n",
        "            predictions = outputs.logits\n",
        "\n",
        "            all_labels.extend(labels.to('cpu').numpy())\n",
        "            all_predictions.extend(outputs.logits.to('cpu').numpy())\n",
        "\n",
        "            final_loss += loss.item()\n",
        "\n",
        "            #print(np.array(all_predictions).shape)\n",
        "\n",
        "            # all_labels=  torch.tensor(all_labels).to('cpu').numpy()\n",
        "            # all_predictions = torch.tensor(all_predictions).to('cpu').numpy()\n",
        "\n",
        "            \n",
        "            \n",
        "        metrics = \\\n",
        "        compute_metrics(predictions=np.asarray(all_predictions), labels=np.asarray(all_labels))\n",
        "\n",
        "        accuracy_score = metrics['accuracy_score']\n",
        "        precision= metrics['precision']\n",
        "        recall= metrics['recall']\n",
        "        f1= metrics['f1']\n",
        "\n",
        "        print(f' Accuracy: {accuracy_score}')\n",
        "        print(f' Precision: {precision}')\n",
        "        print(f' Recall: {recall}')\n",
        "        print(f' F1: {f1}')\n",
        "\n",
        "\n",
        "        final_loss /= len(test_dl) \n",
        "\n",
        "        print(f'Final Test Loss is: {final_loss}' )\n"
      ],
      "execution_count": null,
      "outputs": []
    },
    {
      "cell_type": "markdown",
      "metadata": {
        "id": "b-iOQ0g1xRvI"
      },
      "source": [
        "### Train Loop"
      ]
    },
    {
      "cell_type": "markdown",
      "metadata": {
        "id": "pjFRVxb_jx1B"
      },
      "source": [
        "This part is in case we wann continue from a  trined model, so we load the state dict and continue upon it "
      ]
    },
    {
      "cell_type": "code",
      "metadata": {
        "id": "v69lxYL768Vm"
      },
      "source": [
        "\n",
        "\n",
        "! cp drive/MyDrive/Models/model .\n",
        "\n",
        "model = model_init().to(device)\n",
        "model.load_state_dict(torch.load('model', map_location='cpu'))"
      ],
      "execution_count": null,
      "outputs": []
    },
    {
      "cell_type": "markdown",
      "metadata": {
        "id": "JvPsQI8NjeQH"
      },
      "source": [
        "Here we configure an optimizer and a scheduler"
      ]
    },
    {
      "cell_type": "code",
      "metadata": {
        "id": "WTVRGMh9NCKV",
        "colab": {
          "base_uri": "https://localhost:8080/",
          "height": 231
        },
        "outputId": "af1cf1b2-bbf8-46dd-b342-78bcc5cbbfa3"
      },
      "source": [
        "optimizer = AdamW(model.parameters(), lr=5e-5, correct_bias=False)\n",
        "total_steps = len(train_data_loader) * EPOCHS\n",
        "\n",
        "scheduler = get_linear_schedule_with_warmup(\n",
        "  optimizer,\n",
        "  num_warmup_steps=0,\n",
        "  num_training_steps=total_steps\n",
        ")"
      ],
      "execution_count": null,
      "outputs": [
        {
          "output_type": "error",
          "ename": "NameError",
          "evalue": "ignored",
          "traceback": [
            "\u001b[0;31m---------------------------------------------------------------------------\u001b[0m",
            "\u001b[0;31mNameError\u001b[0m                                 Traceback (most recent call last)",
            "\u001b[0;32m<ipython-input-28-bee749d6f462>\u001b[0m in \u001b[0;36m<module>\u001b[0;34m()\u001b[0m\n\u001b[0;32m----> 1\u001b[0;31m \u001b[0moptimizer\u001b[0m \u001b[0;34m=\u001b[0m \u001b[0mAdamW\u001b[0m\u001b[0;34m(\u001b[0m\u001b[0mmodel\u001b[0m\u001b[0;34m.\u001b[0m\u001b[0mparameters\u001b[0m\u001b[0;34m(\u001b[0m\u001b[0;34m)\u001b[0m\u001b[0;34m,\u001b[0m \u001b[0mlr\u001b[0m\u001b[0;34m=\u001b[0m\u001b[0;36m5e-5\u001b[0m\u001b[0;34m,\u001b[0m \u001b[0mcorrect_bias\u001b[0m\u001b[0;34m=\u001b[0m\u001b[0;32mFalse\u001b[0m\u001b[0;34m)\u001b[0m\u001b[0;34m\u001b[0m\u001b[0;34m\u001b[0m\u001b[0m\n\u001b[0m\u001b[1;32m      2\u001b[0m \u001b[0mtotal_steps\u001b[0m \u001b[0;34m=\u001b[0m \u001b[0mlen\u001b[0m\u001b[0;34m(\u001b[0m\u001b[0mtrain_data_loader\u001b[0m\u001b[0;34m)\u001b[0m \u001b[0;34m*\u001b[0m \u001b[0mEPOCHS\u001b[0m\u001b[0;34m\u001b[0m\u001b[0;34m\u001b[0m\u001b[0m\n\u001b[1;32m      3\u001b[0m \u001b[0;34m\u001b[0m\u001b[0m\n\u001b[1;32m      4\u001b[0m scheduler = get_linear_schedule_with_warmup(\n\u001b[1;32m      5\u001b[0m   \u001b[0moptimizer\u001b[0m\u001b[0;34m,\u001b[0m\u001b[0;34m\u001b[0m\u001b[0;34m\u001b[0m\u001b[0m\n",
            "\u001b[0;31mNameError\u001b[0m: name 'model' is not defined"
          ]
        }
      ]
    },
    {
      "cell_type": "markdown",
      "metadata": {
        "id": "PiZTFoiEnrMU"
      },
      "source": [
        "#### Train Loop"
      ]
    },
    {
      "cell_type": "code",
      "metadata": {
        "id": "akKFfQvyONGr"
      },
      "source": [
        "for epoch in range(EPOCHS):\n",
        "\n",
        "    print(f'Epoch {epoch + 1}/{EPOCHS}')\n",
        "    print('-' * 10)\n",
        "\n",
        "\n",
        "    train_loss = train_epoch(\n",
        "                            model = model,\n",
        "                            train_dl = train_data_loader ,    \n",
        "                            device = device,\n",
        "                            optimizer =optimizer, \n",
        "                            scheduler = scheduler, \n",
        "\n",
        "    )\n",
        "    print(f'Train loss {train_loss}')\n",
        "\n",
        "\n",
        "    eval_loss, metrics = eval_epoch(\n",
        "                                model = model,\n",
        "                                eval_dl = eval_data_loader ,    \n",
        "                                device = device,\n",
        "                                generate_report = False\n",
        "    )\n",
        "\n",
        "    print(f'Eval loss: {eval_loss}')\n",
        "    print(f'Eval Metrics:  {metrics}')\n",
        "    print('--------------------------------------------------------------------')"
      ],
      "execution_count": null,
      "outputs": []
    },
    {
      "cell_type": "markdown",
      "metadata": {
        "id": "NVXEVsTsxxx1"
      },
      "source": [
        "### Saving Model"
      ]
    },
    {
      "cell_type": "code",
      "metadata": {
        "id": "vlcdIA7v_UwB"
      },
      "source": [
        "\n",
        "save_model_name = 'full_model_v3'\n",
        "\n",
        "\n",
        "torch.save(model, save_model_name)\n",
        "\n",
        "!cp full_model_v2 drive/MyDrive/Models/"
      ],
      "execution_count": null,
      "outputs": []
    },
    {
      "cell_type": "markdown",
      "metadata": {
        "id": "FP53AdCsyKTt"
      },
      "source": [
        "### Testing"
      ]
    },
    {
      "cell_type": "code",
      "metadata": {
        "id": "OXQRksMkG4-9"
      },
      "source": [
        "! cp drive/MyDrive/Models/full_model_v2 ."
      ],
      "execution_count": null,
      "outputs": []
    },
    {
      "cell_type": "code",
      "metadata": {
        "id": "x2taxTzeGOb7",
        "colab": {
          "base_uri": "https://localhost:8080/",
          "height": 151,
          "referenced_widgets": [
            "3310986533aa4e5c9fe23a4b58645166",
            "5acd689f26ab4a6c970f32ecf0006ecf",
            "ff783b9fa9c64d78868ee671a6fb7dfd",
            "41a41e590c034252b567d153eb0a11e5",
            "2558ad4710ca44528930ae57fa87aa2e",
            "ae97e474ba1d4015a5fa465336ce0965",
            "eb81bcbe2059495180df8e2cf1d9c66f",
            "8c3a5ab707044eb99f3337f4d4ca60f0"
          ]
        },
        "outputId": "b46c849f-70fc-44a2-bb0e-bd1a35d7a59a"
      },
      "source": [
        "############ TESTING ###########\n",
        "\n",
        "\n",
        "# test_model = model_init()\n",
        "# test_model.load_state_dict(torch.load('model_v1', map_location='cpu'))\n",
        "\n",
        "test_model = torch.load('full_model_v2' ,map_location='cpu')\n",
        "\n",
        "model_test(test_dl= test_data_loader,model=test_model, device= device)"
      ],
      "execution_count": null,
      "outputs": [
        {
          "output_type": "display_data",
          "data": {
            "application/vnd.jupyter.widget-view+json": {
              "model_id": "3310986533aa4e5c9fe23a4b58645166",
              "version_minor": 0,
              "version_major": 2
            },
            "text/plain": [
              "HBox(children=(FloatProgress(value=0.0, max=99.0), HTML(value='')))"
            ]
          },
          "metadata": {
            "tags": []
          }
        },
        {
          "output_type": "stream",
          "text": [
            "\n",
            " Accuracy: 0.9967066235732112\n",
            " Precision: 0.9761073825503356\n",
            " Recall: 0.9811117107393416\n",
            " F1: 0.9786031489705288\n",
            "Final Test Loss is: 0.018308890143107603\n"
          ],
          "name": "stdout"
        }
      ]
    },
    {
      "cell_type": "markdown",
      "metadata": {
        "id": "bBbYx4Vh7-O_"
      },
      "source": [
        "Testing result \n",
        "\n",
        "\n",
        "Accuracy: 0.9967066235732112\n",
        " Precision: 0.9761073825503356\n",
        " Recall: 0.9811117107393416\n",
        " F1: 0.9786031489705288\n",
        "Final Test Loss is: 0.018308890143107603"
      ]
    },
    {
      "cell_type": "markdown",
      "metadata": {
        "id": "hcROXvlQyzhl"
      },
      "source": [
        "### Test on one sentence "
      ]
    },
    {
      "cell_type": "markdown",
      "metadata": {
        "id": "5r1Uuioxpptp"
      },
      "source": [
        "This function is to test our trained model, on a sentence "
      ]
    },
    {
      "cell_type": "code",
      "metadata": {
        "id": "RIO5gxu7JstD"
      },
      "source": [
        "def predict_sent(sentences):\n",
        "\n",
        "    input_ids  = TOKENIZER.encode(sentences, return_tensors='pt')\n",
        "\n",
        "    #print(input_ids)\n",
        "\n",
        "    with torch.no_grad():\n",
        "        test_model.to('cpu')\n",
        "        output = test_model(input_ids)\n",
        "    label_indices = np.argmax(output[0].to('cpu').numpy(), axis=2)\n",
        "\n",
        "    #print(label_indices)\n",
        "\n",
        "    tokens = TOKENIZER.convert_ids_to_tokens(input_ids.to('cpu').numpy()[0])\n",
        "# hoda m7 ##md\n",
        "\n",
        "    # print(tokens)\n",
        "    # print(len(tokens) )\n",
        "\n",
        "    # print(len(label_indices[0]))\n",
        "\n",
        "\n",
        "    # for a,b in zip(tokens, label_indices[0]):\n",
        "    #     print(a , inv_label_map[b])\n",
        "\n",
        "\n",
        "    new_tokens, new_labels = [], []\n",
        "    for token, label_idx in zip(tokens, label_indices[0]):\n",
        "        if token.startswith(\"##\"):\n",
        "            new_tokens[-1] = new_tokens[-1] + token[2:]\n",
        "        else:\n",
        "            new_labels.append(inv_label_map[label_idx])\n",
        "            new_tokens.append(token)\n",
        "\n",
        "\n",
        "    for token, label in zip(new_tokens, new_labels):\n",
        "        print(\"{}\\t{}\".format(label, token))"
      ],
      "execution_count": null,
      "outputs": []
    },
    {
      "cell_type": "code",
      "metadata": {
        "id": "pkJsF_zLJ5ls",
        "colab": {
          "base_uri": "https://localhost:8080/"
        },
        "outputId": "66b0793a-f490-4a97-aeac-608579b44aa9"
      },
      "source": [
        "\n",
        "sentences = 'من اشهر الجبال في المحافظة هو جبل اكاجي و جبل هارونا'\n",
        "\n",
        "sentences1 = ' بسم الله الرحمن الرحيم, بص يشي الواد عمر راح جامعه عين شمس انبارح و بعدين راح رايح علي المرج و شبين الكوم و ضرب نار ب المسدس ف الفيوم  '\n",
        "\n",
        "sentence2 = \" النجم محمد صلاح لاعب المنتخب المصري يعيش في مصر بالتحديد من المنصوره\"\n",
        "\n",
        "predict_sent(sentence2)"
      ],
      "execution_count": null,
      "outputs": [
        {
          "output_type": "stream",
          "text": [
            "O\t[CLS]\n",
            "O\tالنجم\n",
            "B-Athlete\tمحمد\n",
            "I-Athlete\tصلاح\n",
            "O\tلاعب\n",
            "B-Sports\tالمنتخب\n",
            "I-Sports\tالمصري\n",
            "O\tيعيش\n",
            "O\tفي\n",
            "B-Nation\tمصر\n",
            "O\tبالتحديد\n",
            "O\tمن\n",
            "B-Population-Center\tالمنصوره\n",
            "O\t[SEP]\n"
          ],
          "name": "stdout"
        }
      ]
    },
    {
      "cell_type": "markdown",
      "metadata": {
        "id": "npLQ3W4Zypmh"
      },
      "source": [
        "### Test on a test batch and see all predicitions and tags"
      ]
    },
    {
      "cell_type": "code",
      "metadata": {
        "id": "WRVLxUXWIJOD"
      },
      "source": [
        "\n",
        "\n",
        "\n",
        "############## TESTING #######################\n",
        "device = 'cuda'\n",
        "\n",
        "\n",
        "with torch.no_grad():\n",
        "\n",
        "    test_data = next(iter(test_data_loader))\n",
        "\n",
        "\n",
        "    input_ids = test_data['input_ids'].to(device)\n",
        "    attention_mask = test_data['attention_mask'].to(device)\n",
        "    token_type_ids = test_data['token_type_ids'].to(device)\n",
        "    labels = test_data['labels'].to(device)\n",
        "\n",
        "\n",
        "    outputs = model(input_ids = input_ids,\n",
        "                    token_type_ids=token_type_ids,\n",
        "                    attention_mask=attention_mask,\n",
        "                    labels=labels)\n",
        "\n",
        "\n",
        "    #print(labels)\n",
        "\n",
        "\n",
        "    loss = outputs.loss\n",
        "    logits = outputs.logits.to('cpu').numpy() \n",
        "\n",
        "\n",
        "    s = nn.Softmax(dim=1)\n",
        "\n",
        "    #print(s( torch.from_numpy(logits[0]) )[5]  )\n",
        "\n",
        "\n",
        "\n",
        "    a,b =  align_predictions(predictions=logits, label_ids= labels.to('cpu').numpy() )\n",
        "\n",
        "    # print(a)\n",
        "    # print(b)\n",
        "\n",
        "    # print(len(a[0]), len(b[0]))\n",
        "\n",
        "    # print(list(zip(a[0],b[0])))\n",
        "\n",
        "    for aa,bb in zip(a[0],b[0]):\n",
        "        print(f' Predicition: {aa},   Label: {bb}')\n",
        "\n",
        "\n",
        "    #print(logits[0][5])\n",
        "    #print(sum(logits[0][5]))\n",
        "\n",
        "\n",
        "\n",
        "\n",
        "    #print(logits.shape)\n",
        "\n",
        "    logits = np.argmax (logits, axis=2)\n",
        "    #print(logits.shape)\n",
        "\n",
        "    #print(input_ids.squeeze())\n",
        "    sent = TOKENIZER.convert_ids_to_tokens(input_ids.squeeze(),skip_special_tokens=True)\n",
        "\n",
        "    print(sent)\n",
        "\n",
        "    \n",
        "\n",
        "\n",
        "   \n",
        "\n",
        "\n",
        "\n",
        "\n",
        "\n",
        "    sent_logits = logits[0][1: len(sent)+1]\n",
        "    sent_labels = labels[0][1 : len(sent)+1].to('cpu')\n",
        "\n",
        "    print(len(sent), len(sent_logits))\n",
        "\n",
        "\n",
        "    for a, b,c in  zip(sent, sent_logits, sent_labels):\n",
        "\n",
        "        print(f' word: {a}     Prediction: {b}   Correct: {c}' )\n",
        "    print(f' Accuracy is: {torch.sum(torch.tensor(sent_logits)==sent_labels) / len(sent)}')\n",
        "\n",
        "    print(loss)"
      ],
      "execution_count": null,
      "outputs": []
    },
    {
      "cell_type": "code",
      "metadata": {
        "id": "HVSEzYeWgsGh"
      },
      "source": [
        "from google.colab import drive\n",
        "drive.mount('/content/drive')"
      ],
      "execution_count": null,
      "outputs": []
    },
    {
      "cell_type": "markdown",
      "metadata": {
        "id": "A9HMWWLG0wGt"
      },
      "source": [
        "### TODO"
      ]
    },
    {
      "cell_type": "code",
      "metadata": {
        "id": "Kzel8mgg0yII"
      },
      "source": [
        "Z"
      ],
      "execution_count": null,
      "outputs": []
    }
  ]
}